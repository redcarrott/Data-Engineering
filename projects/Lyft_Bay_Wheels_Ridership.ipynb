{
 "cells": [
  {
   "cell_type": "markdown",
   "id": "2d689ab8",
   "metadata": {},
   "source": [
    "# w205 Project 1 Part 3"
   ]
  },
  {
   "cell_type": "markdown",
   "id": "1388adf9",
   "metadata": {},
   "source": [
    "- 3 Pandas formatted output tables to present / support findings\n",
    "- 2 data viz Seaborn / Matplotlib "
   ]
  },
  {
   "cell_type": "code",
   "execution_count": 9,
   "id": "1d6e6f5d",
   "metadata": {},
   "outputs": [],
   "source": [
    "import pandas as pd\n",
    "import numpy as np\n",
    "%matplotlib inline\n",
    "import seaborn as sns"
   ]
  },
  {
   "cell_type": "markdown",
   "id": "30cf8d8e",
   "metadata": {},
   "source": [
    "### Q1. What are the 5 most popular trips that you would call \"commuter trips\"?"
   ]
  },
  {
   "cell_type": "markdown",
   "id": "24cc4946",
   "metadata": {},
   "source": [
    "I defined a \"commuter trip\" as the following:\n",
    "- more than 60 seconds long \n",
    "- during rush hours (Monday - Friday, 7 - 9 AM or 4 - 6 PM)\n",
    "- different start and end points "
   ]
  },
  {
   "cell_type": "code",
   "execution_count": 2,
   "id": "183c4c66",
   "metadata": {},
   "outputs": [
    {
     "name": "stderr",
     "output_type": "stream",
     "text": [
      "Query complete after 0.01s: 100%|██████████| 1/1 [00:00<00:00, 790.33query/s] \n",
      "Downloading: 100%|██████████| 554128/554128 [00:02<00:00, 188233.45rows/s]\n"
     ]
    }
   ],
   "source": [
    "\n",
    "%%bigquery all_unfiltered_commuters\n",
    "SELECT *,\n",
    "       CASE \n",
    "           WHEN EXTRACT(DAYOFWEEK FROM start_date) \n",
    "        IN (2, 3, 4, 5, 6) \n",
    "        AND ((EXTRACT(HOUR FROM start_date) >= 7 \n",
    "              AND EXTRACT(HOUR FROM start_date) <= 9) \n",
    "             OR (EXTRACT(HOUR FROM start_date) >= 16 \n",
    "                 AND EXTRACT(HOUR FROM start_date) <= 18)) \n",
    "        THEN 1 # 1 = Rush\n",
    "           ELSE 0 # 0 = Not Rush\n",
    "           END AS rush_hour\n",
    "\n",
    "FROM `bigquery-public-data.san_francisco.bikeshare_trips`\n",
    "WHERE EXTRACT(DAYOFWEEK FROM start_date) \n",
    "IN (2, 3, 4, 5, 6) \n",
    "AND ((EXTRACT(HOUR FROM start_date) >= 7 \n",
    "      AND EXTRACT(HOUR FROM start_date) <= 9) \n",
    "     OR (EXTRACT(HOUR FROM start_date) >= 16 \n",
    "         AND EXTRACT(HOUR FROM start_date) <= 18)) \n",
    "AND duration_sec > 60 \n",
    "AND start_station_id != end_station_id\n",
    "#AND rush_hour > 0"
   ]
  },
  {
   "cell_type": "markdown",
   "id": "193f6aaa",
   "metadata": {},
   "source": [
    "Looking at some rows:"
   ]
  },
  {
   "cell_type": "code",
   "execution_count": 5,
   "id": "6beaf7ad",
   "metadata": {},
   "outputs": [
    {
     "data": {
      "text/html": [
       "<div>\n",
       "<style scoped>\n",
       "    .dataframe tbody tr th:only-of-type {\n",
       "        vertical-align: middle;\n",
       "    }\n",
       "\n",
       "    .dataframe tbody tr th {\n",
       "        vertical-align: top;\n",
       "    }\n",
       "\n",
       "    .dataframe thead th {\n",
       "        text-align: right;\n",
       "    }\n",
       "</style>\n",
       "<table border=\"1\" class=\"dataframe\">\n",
       "  <thead>\n",
       "    <tr style=\"text-align: right;\">\n",
       "      <th></th>\n",
       "      <th>subscriber_type</th>\n",
       "      <th>rush_hour</th>\n",
       "      <th>start_station_name</th>\n",
       "      <th>end_station_name</th>\n",
       "    </tr>\n",
       "  </thead>\n",
       "  <tbody>\n",
       "    <tr>\n",
       "      <th>0</th>\n",
       "      <td>Subscriber</td>\n",
       "      <td>1</td>\n",
       "      <td>Sequoia Hospital</td>\n",
       "      <td>Mezes</td>\n",
       "    </tr>\n",
       "    <tr>\n",
       "      <th>1</th>\n",
       "      <td>Subscriber</td>\n",
       "      <td>1</td>\n",
       "      <td>Redwood City Caltrain Station</td>\n",
       "      <td>Mezes</td>\n",
       "    </tr>\n",
       "    <tr>\n",
       "      <th>2</th>\n",
       "      <td>Subscriber</td>\n",
       "      <td>1</td>\n",
       "      <td>Redwood City Caltrain Station</td>\n",
       "      <td>Mezes</td>\n",
       "    </tr>\n",
       "    <tr>\n",
       "      <th>3</th>\n",
       "      <td>Subscriber</td>\n",
       "      <td>1</td>\n",
       "      <td>Redwood City Caltrain Station</td>\n",
       "      <td>Mezes</td>\n",
       "    </tr>\n",
       "    <tr>\n",
       "      <th>4</th>\n",
       "      <td>Subscriber</td>\n",
       "      <td>1</td>\n",
       "      <td>Redwood City Caltrain Station</td>\n",
       "      <td>Mezes</td>\n",
       "    </tr>\n",
       "    <tr>\n",
       "      <th>...</th>\n",
       "      <td>...</td>\n",
       "      <td>...</td>\n",
       "      <td>...</td>\n",
       "      <td>...</td>\n",
       "    </tr>\n",
       "    <tr>\n",
       "      <th>554123</th>\n",
       "      <td>Subscriber</td>\n",
       "      <td>1</td>\n",
       "      <td>Temporary Transbay Terminal (Howard at Beale)</td>\n",
       "      <td>Yerba Buena Center of the Arts (3rd @ Howard)</td>\n",
       "    </tr>\n",
       "    <tr>\n",
       "      <th>554124</th>\n",
       "      <td>Subscriber</td>\n",
       "      <td>1</td>\n",
       "      <td>Temporary Transbay Terminal (Howard at Beale)</td>\n",
       "      <td>Yerba Buena Center of the Arts (3rd @ Howard)</td>\n",
       "    </tr>\n",
       "    <tr>\n",
       "      <th>554125</th>\n",
       "      <td>Subscriber</td>\n",
       "      <td>1</td>\n",
       "      <td>Temporary Transbay Terminal (Howard at Beale)</td>\n",
       "      <td>Yerba Buena Center of the Arts (3rd @ Howard)</td>\n",
       "    </tr>\n",
       "    <tr>\n",
       "      <th>554126</th>\n",
       "      <td>Subscriber</td>\n",
       "      <td>1</td>\n",
       "      <td>Temporary Transbay Terminal (Howard at Beale)</td>\n",
       "      <td>Yerba Buena Center of the Arts (3rd @ Howard)</td>\n",
       "    </tr>\n",
       "    <tr>\n",
       "      <th>554127</th>\n",
       "      <td>Subscriber</td>\n",
       "      <td>1</td>\n",
       "      <td>Temporary Transbay Terminal (Howard at Beale)</td>\n",
       "      <td>Yerba Buena Center of the Arts (3rd @ Howard)</td>\n",
       "    </tr>\n",
       "  </tbody>\n",
       "</table>\n",
       "<p>554128 rows × 4 columns</p>\n",
       "</div>"
      ],
      "text/plain": [
       "       subscriber_type  rush_hour  \\\n",
       "0           Subscriber          1   \n",
       "1           Subscriber          1   \n",
       "2           Subscriber          1   \n",
       "3           Subscriber          1   \n",
       "4           Subscriber          1   \n",
       "...                ...        ...   \n",
       "554123      Subscriber          1   \n",
       "554124      Subscriber          1   \n",
       "554125      Subscriber          1   \n",
       "554126      Subscriber          1   \n",
       "554127      Subscriber          1   \n",
       "\n",
       "                                   start_station_name  \\\n",
       "0                                    Sequoia Hospital   \n",
       "1                       Redwood City Caltrain Station   \n",
       "2                       Redwood City Caltrain Station   \n",
       "3                       Redwood City Caltrain Station   \n",
       "4                       Redwood City Caltrain Station   \n",
       "...                                               ...   \n",
       "554123  Temporary Transbay Terminal (Howard at Beale)   \n",
       "554124  Temporary Transbay Terminal (Howard at Beale)   \n",
       "554125  Temporary Transbay Terminal (Howard at Beale)   \n",
       "554126  Temporary Transbay Terminal (Howard at Beale)   \n",
       "554127  Temporary Transbay Terminal (Howard at Beale)   \n",
       "\n",
       "                                     end_station_name  \n",
       "0                                               Mezes  \n",
       "1                                               Mezes  \n",
       "2                                               Mezes  \n",
       "3                                               Mezes  \n",
       "4                                               Mezes  \n",
       "...                                               ...  \n",
       "554123  Yerba Buena Center of the Arts (3rd @ Howard)  \n",
       "554124  Yerba Buena Center of the Arts (3rd @ Howard)  \n",
       "554125  Yerba Buena Center of the Arts (3rd @ Howard)  \n",
       "554126  Yerba Buena Center of the Arts (3rd @ Howard)  \n",
       "554127  Yerba Buena Center of the Arts (3rd @ Howard)  \n",
       "\n",
       "[554128 rows x 4 columns]"
      ]
     },
     "execution_count": 5,
     "metadata": {},
     "output_type": "execute_result"
    }
   ],
   "source": [
    "all_commuters = all_unfiltered_commuters.filter([\"subscriber_type\", \"rush_hour\", \"start_station_name\", \"end_station_name\"]).loc[all_unfiltered_commuters['rush_hour'] == 1]\n",
    "all_commuters"
   ]
  },
  {
   "cell_type": "markdown",
   "id": "edc4eb7c",
   "metadata": {},
   "source": [
    "There are 554128 data points that fit our commuter trip definition. "
   ]
  },
  {
   "cell_type": "markdown",
   "id": "c8a8d1fc",
   "metadata": {},
   "source": [
    "**To figure out the top 5 \"commuter trips\":**"
   ]
  },
  {
   "cell_type": "code",
   "execution_count": 6,
   "id": "8ebd025c",
   "metadata": {},
   "outputs": [
    {
     "name": "stderr",
     "output_type": "stream",
     "text": [
      "Query complete after 0.00s: 100%|██████████| 1/1 [00:00<00:00, 876.19query/s] \n",
      "Downloading: 100%|██████████| 5/5 [00:01<00:00,  2.90rows/s]\n"
     ]
    }
   ],
   "source": [
    "%%bigquery top_5_commuter_trips\n",
    "SELECT start_station_name, end_station_name,\n",
    "COUNT(*) as trip_freq\n",
    "\n",
    "FROM `bigquery-public-data.san_francisco.bikeshare_trips` \n",
    "WHERE EXTRACT(DAYOFWEEK FROM start_date) \n",
    "IN (2, 3, 4, 5, 6) \n",
    "AND ((EXTRACT(HOUR FROM start_date) >= 7 \n",
    "      AND EXTRACT(HOUR FROM start_date) <= 9) \n",
    "     OR (EXTRACT(HOUR FROM start_date) >= 16 \n",
    "         AND EXTRACT(HOUR FROM start_date) <= 18)) \n",
    "AND duration_sec < 2700 \n",
    "AND start_station_id != end_station_id\n",
    "GROUP BY start_station_name, end_station_name\n",
    "ORDER BY trip_freq DESC \n",
    "LIMIT 5"
   ]
  },
  {
   "cell_type": "code",
   "execution_count": 7,
   "id": "592e4085",
   "metadata": {},
   "outputs": [
    {
     "data": {
      "text/html": [
       "<div>\n",
       "<style scoped>\n",
       "    .dataframe tbody tr th:only-of-type {\n",
       "        vertical-align: middle;\n",
       "    }\n",
       "\n",
       "    .dataframe tbody tr th {\n",
       "        vertical-align: top;\n",
       "    }\n",
       "\n",
       "    .dataframe thead th {\n",
       "        text-align: right;\n",
       "    }\n",
       "</style>\n",
       "<table border=\"1\" class=\"dataframe\">\n",
       "  <thead>\n",
       "    <tr style=\"text-align: right;\">\n",
       "      <th></th>\n",
       "      <th>start_station_name</th>\n",
       "      <th>end_station_name</th>\n",
       "      <th>trip_freq</th>\n",
       "    </tr>\n",
       "  </thead>\n",
       "  <tbody>\n",
       "    <tr>\n",
       "      <th>0</th>\n",
       "      <td>2nd at Townsend</td>\n",
       "      <td>Harry Bridges Plaza (Ferry Building)</td>\n",
       "      <td>5163</td>\n",
       "    </tr>\n",
       "    <tr>\n",
       "      <th>1</th>\n",
       "      <td>Harry Bridges Plaza (Ferry Building)</td>\n",
       "      <td>2nd at Townsend</td>\n",
       "      <td>5120</td>\n",
       "    </tr>\n",
       "    <tr>\n",
       "      <th>2</th>\n",
       "      <td>San Francisco Caltrain 2 (330 Townsend)</td>\n",
       "      <td>Townsend at 7th</td>\n",
       "      <td>5028</td>\n",
       "    </tr>\n",
       "    <tr>\n",
       "      <th>3</th>\n",
       "      <td>Embarcadero at Sansome</td>\n",
       "      <td>Steuart at Market</td>\n",
       "      <td>4891</td>\n",
       "    </tr>\n",
       "    <tr>\n",
       "      <th>4</th>\n",
       "      <td>Embarcadero at Folsom</td>\n",
       "      <td>San Francisco Caltrain (Townsend at 4th)</td>\n",
       "      <td>4750</td>\n",
       "    </tr>\n",
       "  </tbody>\n",
       "</table>\n",
       "</div>"
      ],
      "text/plain": [
       "                        start_station_name  \\\n",
       "0                          2nd at Townsend   \n",
       "1     Harry Bridges Plaza (Ferry Building)   \n",
       "2  San Francisco Caltrain 2 (330 Townsend)   \n",
       "3                   Embarcadero at Sansome   \n",
       "4                    Embarcadero at Folsom   \n",
       "\n",
       "                           end_station_name  trip_freq  \n",
       "0      Harry Bridges Plaza (Ferry Building)       5163  \n",
       "1                           2nd at Townsend       5120  \n",
       "2                           Townsend at 7th       5028  \n",
       "3                         Steuart at Market       4891  \n",
       "4  San Francisco Caltrain (Townsend at 4th)       4750  "
      ]
     },
     "execution_count": 7,
     "metadata": {},
     "output_type": "execute_result"
    }
   ],
   "source": [
    "top_5_commuter_trips.filter([\"start_station_name\", \"end_station_name\", \"trip_freq\"])"
   ]
  },
  {
   "cell_type": "code",
   "execution_count": 8,
   "id": "359c3674",
   "metadata": {},
   "outputs": [
    {
     "name": "stderr",
     "output_type": "stream",
     "text": [
      "/opt/conda/lib/python3.7/site-packages/seaborn/_decorators.py:43: FutureWarning: Pass the following variables as keyword args: x, y. From version 0.12, the only valid positional argument will be `data`, and passing other arguments without an explicit keyword will result in an error or misinterpretation.\n",
      "  FutureWarning\n"
     ]
    },
    {
     "data": {
      "text/plain": [
       "[Text(0.5, 0, 'Frequency'),\n",
       " Text(0.5, 1.0, 'Top 5 Most Popular Commuter Trips')]"
      ]
     },
     "execution_count": 8,
     "metadata": {},
     "output_type": "execute_result"
    },
    {
     "data": {
      "image/png": "[encoded data removed]",
      "text/plain": [
       "<Figure size 432x288 with 1 Axes>"
      ]
     },
     "metadata": {
      "needs_background": "light"
     },
     "output_type": "display_data"
    }
   ],
   "source": [
    "top_5_commuter_trips[\"trips\"] = top_5_commuter_trips[\"start_station_name\"] + \" to \" + top_5_commuter_trips[\"end_station_name\"]\n",
    "\n",
    "top_5_graph = sns.barplot(top_5_commuter_trips[\"trip_freq\"], \n",
    "                          top_5_commuter_trips[\"trips\"])\n",
    "top_5_graph.set(xlabel = \"Frequency\",\n",
    "                title = \"Top 5 Most Popular Commuter Trips\")"
   ]
  },
  {
   "cell_type": "markdown",
   "id": "7aae7fe0",
   "metadata": {},
   "source": [
    "Looks like the top 5 trips are pretty close in frequency (relative to total frequency)!"
   ]
  },
  {
   "cell_type": "markdown",
   "id": "1fa79dd1",
   "metadata": {},
   "source": [
    "### Q2. What are your recommendations for offers (justify based on your findings)?"
   ]
  },
  {
   "cell_type": "markdown",
   "id": "9f6b8a44",
   "metadata": {},
   "source": [
    "Taking a quick look at the all_commuters table, it looks like a lot of \"commuter trips\" are by Subscribers. Let's see if that's true."
   ]
  },
  {
   "cell_type": "code",
   "execution_count": 9,
   "id": "25688eb1",
   "metadata": {},
   "outputs": [
    {
     "name": "stderr",
     "output_type": "stream",
     "text": [
      "Query complete after 0.00s: 100%|██████████| 1/1 [00:00<00:00, 931.86query/s] \n",
      "Downloading: 100%|██████████| 1/1 [00:02<00:00,  2.01s/rows]\n"
     ]
    },
    {
     "data": {
      "text/html": [
       "<div>\n",
       "<style scoped>\n",
       "    .dataframe tbody tr th:only-of-type {\n",
       "        vertical-align: middle;\n",
       "    }\n",
       "\n",
       "    .dataframe tbody tr th {\n",
       "        vertical-align: top;\n",
       "    }\n",
       "\n",
       "    .dataframe thead th {\n",
       "        text-align: right;\n",
       "    }\n",
       "</style>\n",
       "<table border=\"1\" class=\"dataframe\">\n",
       "  <thead>\n",
       "    <tr style=\"text-align: right;\">\n",
       "      <th></th>\n",
       "      <th>f0_</th>\n",
       "    </tr>\n",
       "  </thead>\n",
       "  <tbody>\n",
       "    <tr>\n",
       "      <th>0</th>\n",
       "      <td>554128</td>\n",
       "    </tr>\n",
       "  </tbody>\n",
       "</table>\n",
       "</div>"
      ],
      "text/plain": [
       "      f0_\n",
       "0  554128"
      ]
     },
     "execution_count": 9,
     "metadata": {},
     "output_type": "execute_result"
    }
   ],
   "source": [
    "%%bigquery \n",
    "SELECT COUNT(*),\n",
    "FROM `bigquery-public-data.san_francisco.bikeshare_trips`\n",
    "WHERE EXTRACT(DAYOFWEEK FROM start_date) \n",
    "IN (2, 3, 4, 5, 6) \n",
    "AND ((EXTRACT(HOUR FROM start_date) >= 7 \n",
    "      AND EXTRACT(HOUR FROM start_date) <= 9) \n",
    "     OR (EXTRACT(HOUR FROM start_date) >= 16 \n",
    "         AND EXTRACT(HOUR FROM start_date) <= 18)) \n",
    "AND duration_sec > 60 \n",
    "AND start_station_id != end_station_id"
   ]
  },
  {
   "cell_type": "code",
   "execution_count": 10,
   "id": "815b1dab",
   "metadata": {},
   "outputs": [
    {
     "name": "stderr",
     "output_type": "stream",
     "text": [
      "Query complete after 0.00s: 100%|██████████| 1/1 [00:00<00:00, 814.59query/s] \n",
      "Downloading: 100%|██████████| 1/1 [00:01<00:00,  1.72s/rows]\n"
     ]
    },
    {
     "data": {
      "text/html": [
       "<div>\n",
       "<style scoped>\n",
       "    .dataframe tbody tr th:only-of-type {\n",
       "        vertical-align: middle;\n",
       "    }\n",
       "\n",
       "    .dataframe tbody tr th {\n",
       "        vertical-align: top;\n",
       "    }\n",
       "\n",
       "    .dataframe thead th {\n",
       "        text-align: right;\n",
       "    }\n",
       "</style>\n",
       "<table border=\"1\" class=\"dataframe\">\n",
       "  <thead>\n",
       "    <tr style=\"text-align: right;\">\n",
       "      <th></th>\n",
       "      <th>f0_</th>\n",
       "    </tr>\n",
       "  </thead>\n",
       "  <tbody>\n",
       "    <tr>\n",
       "      <th>0</th>\n",
       "      <td>526816</td>\n",
       "    </tr>\n",
       "  </tbody>\n",
       "</table>\n",
       "</div>"
      ],
      "text/plain": [
       "      f0_\n",
       "0  526816"
      ]
     },
     "execution_count": 10,
     "metadata": {},
     "output_type": "execute_result"
    }
   ],
   "source": [
    "%%bigquery \n",
    "SELECT COUNT(*),\n",
    "FROM `bigquery-public-data.san_francisco.bikeshare_trips`\n",
    "WHERE subscriber_type = \"Subscriber\" \n",
    "AND EXTRACT(DAYOFWEEK FROM start_date) \n",
    "IN (2, 3, 4, 5, 6) \n",
    "AND ((EXTRACT(HOUR FROM start_date) >= 7 \n",
    "      AND EXTRACT(HOUR FROM start_date) <= 9) \n",
    "     OR (EXTRACT(HOUR FROM start_date) >= 16 \n",
    "         AND EXTRACT(HOUR FROM start_date) <= 18)) \n",
    "AND duration_sec > 60\n",
    "AND start_station_id != end_station_id"
   ]
  },
  {
   "cell_type": "code",
   "execution_count": 11,
   "id": "b4766a9d",
   "metadata": {},
   "outputs": [
    {
     "data": {
      "text/plain": [
       "0.9507117489099991"
      ]
     },
     "execution_count": 11,
     "metadata": {},
     "output_type": "execute_result"
    }
   ],
   "source": [
    "526816 / 554128"
   ]
  },
  {
   "cell_type": "markdown",
   "id": "236193df",
   "metadata": {},
   "source": [
    "Yes, 95% of the defined \"commuter trips\" were taken by Subscribers! From these analyses, it is recommended that we retain the existing Subscription offers for commuters. "
   ]
  },
  {
   "cell_type": "markdown",
   "id": "5efc11a1",
   "metadata": {},
   "source": [
    "**What about those who ride our bikes on the weekends?**"
   ]
  },
  {
   "cell_type": "markdown",
   "id": "6cacc056",
   "metadata": {},
   "source": [
    "\"Weekend\" trips will be defined as any types of trips taken on Sunday or Saturday that is greater than 60 secs but less than 86400 secs (24 hours)"
   ]
  },
  {
   "cell_type": "code",
   "execution_count": 14,
   "id": "d89f54fd",
   "metadata": {},
   "outputs": [
    {
     "name": "stderr",
     "output_type": "stream",
     "text": [
      "Query complete after 0.00s: 100%|██████████| 2/2 [00:00<00:00, 582.54query/s]                         \n",
      "Downloading: 100%|██████████| 111534/111534 [00:02<00:00, 53321.84rows/s]\n"
     ]
    }
   ],
   "source": [
    "%%bigquery weekend\n",
    "SELECT *,\n",
    "FROM `bigquery-public-data.san_francisco.bikeshare_trips`\n",
    "WHERE EXTRACT(DAYOFWEEK FROM start_date) IN (1, 7) \n",
    "AND duration_sec > 60\n",
    "AND duration_sec < 86400 # is 24 hours in seconds ..."
   ]
  },
  {
   "cell_type": "code",
   "execution_count": 15,
   "id": "f55e183c",
   "metadata": {},
   "outputs": [
    {
     "data": {
      "text/html": [
       "<div>\n",
       "<style scoped>\n",
       "    .dataframe tbody tr th:only-of-type {\n",
       "        vertical-align: middle;\n",
       "    }\n",
       "\n",
       "    .dataframe tbody tr th {\n",
       "        vertical-align: top;\n",
       "    }\n",
       "\n",
       "    .dataframe thead th {\n",
       "        text-align: right;\n",
       "    }\n",
       "</style>\n",
       "<table border=\"1\" class=\"dataframe\">\n",
       "  <thead>\n",
       "    <tr style=\"text-align: right;\">\n",
       "      <th></th>\n",
       "      <th>subscriber_type</th>\n",
       "      <th>duration_sec</th>\n",
       "      <th>start_station_name</th>\n",
       "      <th>end_station_name</th>\n",
       "    </tr>\n",
       "  </thead>\n",
       "  <tbody>\n",
       "    <tr>\n",
       "      <th>0</th>\n",
       "      <td>Customer</td>\n",
       "      <td>5957</td>\n",
       "      <td>Mezes</td>\n",
       "      <td>Mezes</td>\n",
       "    </tr>\n",
       "    <tr>\n",
       "      <th>1</th>\n",
       "      <td>Customer</td>\n",
       "      <td>5913</td>\n",
       "      <td>Mezes</td>\n",
       "      <td>Mezes</td>\n",
       "    </tr>\n",
       "    <tr>\n",
       "      <th>2</th>\n",
       "      <td>Customer</td>\n",
       "      <td>5780</td>\n",
       "      <td>Mezes</td>\n",
       "      <td>Mezes</td>\n",
       "    </tr>\n",
       "    <tr>\n",
       "      <th>3</th>\n",
       "      <td>Subscriber</td>\n",
       "      <td>1008</td>\n",
       "      <td>Mezes</td>\n",
       "      <td>Mezes</td>\n",
       "    </tr>\n",
       "    <tr>\n",
       "      <th>4</th>\n",
       "      <td>Subscriber</td>\n",
       "      <td>1021</td>\n",
       "      <td>Kaiser Hospital</td>\n",
       "      <td>Mezes</td>\n",
       "    </tr>\n",
       "    <tr>\n",
       "      <th>...</th>\n",
       "      <td>...</td>\n",
       "      <td>...</td>\n",
       "      <td>...</td>\n",
       "      <td>...</td>\n",
       "    </tr>\n",
       "    <tr>\n",
       "      <th>111529</th>\n",
       "      <td>Subscriber</td>\n",
       "      <td>1170</td>\n",
       "      <td>Yerba Buena Center of the Arts (3rd @ Howard)</td>\n",
       "      <td>Yerba Buena Center of the Arts (3rd @ Howard)</td>\n",
       "    </tr>\n",
       "    <tr>\n",
       "      <th>111530</th>\n",
       "      <td>Customer</td>\n",
       "      <td>394</td>\n",
       "      <td>Yerba Buena Center of the Arts (3rd @ Howard)</td>\n",
       "      <td>Yerba Buena Center of the Arts (3rd @ Howard)</td>\n",
       "    </tr>\n",
       "    <tr>\n",
       "      <th>111531</th>\n",
       "      <td>Customer</td>\n",
       "      <td>512</td>\n",
       "      <td>Yerba Buena Center of the Arts (3rd @ Howard)</td>\n",
       "      <td>Yerba Buena Center of the Arts (3rd @ Howard)</td>\n",
       "    </tr>\n",
       "    <tr>\n",
       "      <th>111532</th>\n",
       "      <td>Customer</td>\n",
       "      <td>10196</td>\n",
       "      <td>Yerba Buena Center of the Arts (3rd @ Howard)</td>\n",
       "      <td>Yerba Buena Center of the Arts (3rd @ Howard)</td>\n",
       "    </tr>\n",
       "    <tr>\n",
       "      <th>111533</th>\n",
       "      <td>Customer</td>\n",
       "      <td>72</td>\n",
       "      <td>Yerba Buena Center of the Arts (3rd @ Howard)</td>\n",
       "      <td>Yerba Buena Center of the Arts (3rd @ Howard)</td>\n",
       "    </tr>\n",
       "  </tbody>\n",
       "</table>\n",
       "<p>111534 rows × 4 columns</p>\n",
       "</div>"
      ],
      "text/plain": [
       "       subscriber_type  duration_sec  \\\n",
       "0             Customer          5957   \n",
       "1             Customer          5913   \n",
       "2             Customer          5780   \n",
       "3           Subscriber          1008   \n",
       "4           Subscriber          1021   \n",
       "...                ...           ...   \n",
       "111529      Subscriber          1170   \n",
       "111530        Customer           394   \n",
       "111531        Customer           512   \n",
       "111532        Customer         10196   \n",
       "111533        Customer            72   \n",
       "\n",
       "                                   start_station_name  \\\n",
       "0                                               Mezes   \n",
       "1                                               Mezes   \n",
       "2                                               Mezes   \n",
       "3                                               Mezes   \n",
       "4                                     Kaiser Hospital   \n",
       "...                                               ...   \n",
       "111529  Yerba Buena Center of the Arts (3rd @ Howard)   \n",
       "111530  Yerba Buena Center of the Arts (3rd @ Howard)   \n",
       "111531  Yerba Buena Center of the Arts (3rd @ Howard)   \n",
       "111532  Yerba Buena Center of the Arts (3rd @ Howard)   \n",
       "111533  Yerba Buena Center of the Arts (3rd @ Howard)   \n",
       "\n",
       "                                     end_station_name  \n",
       "0                                               Mezes  \n",
       "1                                               Mezes  \n",
       "2                                               Mezes  \n",
       "3                                               Mezes  \n",
       "4                                               Mezes  \n",
       "...                                               ...  \n",
       "111529  Yerba Buena Center of the Arts (3rd @ Howard)  \n",
       "111530  Yerba Buena Center of the Arts (3rd @ Howard)  \n",
       "111531  Yerba Buena Center of the Arts (3rd @ Howard)  \n",
       "111532  Yerba Buena Center of the Arts (3rd @ Howard)  \n",
       "111533  Yerba Buena Center of the Arts (3rd @ Howard)  \n",
       "\n",
       "[111534 rows x 4 columns]"
      ]
     },
     "execution_count": 15,
     "metadata": {},
     "output_type": "execute_result"
    }
   ],
   "source": [
    "weekend.filter([\"subscriber_type\", \"duration_sec\", \"start_station_name\", \"end_station_name\"])"
   ]
  },
  {
   "cell_type": "code",
   "execution_count": 16,
   "id": "b5c508eb",
   "metadata": {},
   "outputs": [
    {
     "data": {
      "text/plain": [
       "5276         1.016667\n",
       "109192       1.016667\n",
       "75475        1.016667\n",
       "54743        1.016667\n",
       "107638       1.016667\n",
       "             ...     \n",
       "89226     1433.400000\n",
       "47482     1435.166667\n",
       "12648     1435.716667\n",
       "47494     1438.750000\n",
       "46329     1439.383333\n",
       "Name: duration_sec, Length: 111534, dtype: float64"
      ]
     },
     "execution_count": 16,
     "metadata": {},
     "output_type": "execute_result"
    }
   ],
   "source": [
    "# convert duration_sec to minutes\n",
    "wknd_duration_mins = weekend[\"duration_sec\"]/60\n",
    "wknd_duration_mins.sort_values(ascending=True)"
   ]
  },
  {
   "cell_type": "code",
   "execution_count": 18,
   "id": "e4b29c50",
   "metadata": {},
   "outputs": [
    {
     "name": "stderr",
     "output_type": "stream",
     "text": [
      "/opt/conda/lib/python3.7/site-packages/seaborn/distributions.py:2619: FutureWarning: `distplot` is a deprecated function and will be removed in a future version. Please adapt your code to use either `displot` (a figure-level function with similar flexibility) or `histplot` (an axes-level function for histograms).\n",
      "  warnings.warn(msg, FutureWarning)\n"
     ]
    },
    {
     "data": {
      "text/plain": [
       "[Text(0.5, 0, 'Ride Duration (mins)'),\n",
       " Text(0.5, 1.0, 'Histogram of Ride Duration for Weekend Riders')]"
      ]
     },
     "execution_count": 18,
     "metadata": {},
     "output_type": "execute_result"
    },
    {
     "data": {
      "image/png": "[encoded data removed]",
      "text/plain": [
       "<Figure size 432x288 with 1 Axes>"
      ]
     },
     "metadata": {
      "needs_background": "light"
     },
     "output_type": "display_data"
    }
   ],
   "source": [
    "wknd_graph = sns.distplot(wknd_duration_mins)\n",
    "wknd_graph.set(xlabel = 'Ride Duration (mins)', \n",
    "              title = \"Histogram of Ride Duration for Weekend Riders\")"
   ]
  },
  {
   "cell_type": "markdown",
   "id": "7012565b",
   "metadata": {},
   "source": [
    "The plot looks a bit too skewed, so will define weekend trips as trips that are less than 200 mins long."
   ]
  },
  {
   "cell_type": "code",
   "execution_count": 19,
   "id": "2835885e",
   "metadata": {},
   "outputs": [
    {
     "name": "stderr",
     "output_type": "stream",
     "text": [
      "Query complete after 0.00s: 100%|██████████| 2/2 [00:00<00:00, 592.92query/s]                         \n",
      "Downloading: 100%|██████████| 4589/4589 [00:03<00:00, 1396.38rows/s]\n"
     ]
    }
   ],
   "source": [
    "%%bigquery redefined_weekend\n",
    "SELECT *,\n",
    "FROM `bigquery-public-data.san_francisco.bikeshare_trips`\n",
    "WHERE EXTRACT(DAYOFWEEK FROM start_date) IN (1, 7) \n",
    "AND duration_sec > 60\n",
    "AND duration_sec < 200"
   ]
  },
  {
   "cell_type": "code",
   "execution_count": 21,
   "id": "6b334098",
   "metadata": {},
   "outputs": [
    {
     "name": "stderr",
     "output_type": "stream",
     "text": [
      "/opt/conda/lib/python3.7/site-packages/seaborn/distributions.py:2619: FutureWarning: `distplot` is a deprecated function and will be removed in a future version. Please adapt your code to use either `displot` (a figure-level function with similar flexibility) or `histplot` (an axes-level function for histograms).\n",
      "  warnings.warn(msg, FutureWarning)\n"
     ]
    },
    {
     "data": {
      "text/plain": [
       "[Text(0.5, 0, 'Ride Duration (mins)'),\n",
       " Text(0.5, 1.0, 'Histogram of Ride Duration for Weekend Riders')]"
      ]
     },
     "execution_count": 21,
     "metadata": {},
     "output_type": "execute_result"
    },
    {
     "data": {
      "image/png": "[encoded data removed]",
      "text/plain": [
       "<Figure size 432x288 with 1 Axes>"
      ]
     },
     "metadata": {
      "needs_background": "light"
     },
     "output_type": "display_data"
    }
   ],
   "source": [
    "# convert duration_sec to minutes\n",
    "redefined_wknd_duration_mins = redefined_weekend[\"duration_sec\"]/60\n",
    "redefined_wknd_duration_mins.sort_values(ascending=True)\n",
    "\n",
    "hist = sns.distplot(redefined_wknd_duration_mins)\n",
    "hist.set(xlabel = 'Ride Duration (mins)', \n",
    "              title = \"Histogram of Ride Duration for Weekend Riders\")"
   ]
  },
  {
   "cell_type": "markdown",
   "id": "00a8f543",
   "metadata": {},
   "source": [
    "Most weekend riders ride less than 3.5 mins! "
   ]
  },
  {
   "cell_type": "code",
   "execution_count": 1,
   "id": "efb532a4",
   "metadata": {},
   "outputs": [
    {
     "name": "stderr",
     "output_type": "stream",
     "text": [
      "Query complete after 0.01s: 100%|██████████| 2/2 [00:00<00:00, 646.12query/s]                         \n",
      "Downloading: 100%|██████████| 1/1 [00:01<00:00,  1.19s/rows]\n"
     ]
    },
    {
     "data": {
      "text/html": [
       "<div>\n",
       "<style scoped>\n",
       "    .dataframe tbody tr th:only-of-type {\n",
       "        vertical-align: middle;\n",
       "    }\n",
       "\n",
       "    .dataframe tbody tr th {\n",
       "        vertical-align: top;\n",
       "    }\n",
       "\n",
       "    .dataframe thead th {\n",
       "        text-align: right;\n",
       "    }\n",
       "</style>\n",
       "<table border=\"1\" class=\"dataframe\">\n",
       "  <thead>\n",
       "    <tr style=\"text-align: right;\">\n",
       "      <th></th>\n",
       "      <th>f0_</th>\n",
       "    </tr>\n",
       "  </thead>\n",
       "  <tbody>\n",
       "    <tr>\n",
       "      <th>0</th>\n",
       "      <td>111645</td>\n",
       "    </tr>\n",
       "  </tbody>\n",
       "</table>\n",
       "</div>"
      ],
      "text/plain": [
       "      f0_\n",
       "0  111645"
      ]
     },
     "execution_count": 1,
     "metadata": {},
     "output_type": "execute_result"
    }
   ],
   "source": [
    "%%bigquery \n",
    "SELECT COUNT(*),\n",
    "FROM `bigquery-public-data.san_francisco.bikeshare_trips`\n",
    "WHERE EXTRACT(DAYOFWEEK FROM start_date) \n",
    "IN (1, 7) \n",
    "AND duration_sec > 60 "
   ]
  },
  {
   "cell_type": "code",
   "execution_count": 2,
   "id": "2d48a383",
   "metadata": {},
   "outputs": [
    {
     "name": "stderr",
     "output_type": "stream",
     "text": [
      "Query complete after 0.00s: 100%|██████████| 2/2 [00:00<00:00, 651.64query/s]                         \n",
      "Downloading: 100%|██████████| 1/1 [00:01<00:00,  1.21s/rows]\n"
     ]
    },
    {
     "data": {
      "text/html": [
       "<div>\n",
       "<style scoped>\n",
       "    .dataframe tbody tr th:only-of-type {\n",
       "        vertical-align: middle;\n",
       "    }\n",
       "\n",
       "    .dataframe tbody tr th {\n",
       "        vertical-align: top;\n",
       "    }\n",
       "\n",
       "    .dataframe thead th {\n",
       "        text-align: right;\n",
       "    }\n",
       "</style>\n",
       "<table border=\"1\" class=\"dataframe\">\n",
       "  <thead>\n",
       "    <tr style=\"text-align: right;\">\n",
       "      <th></th>\n",
       "      <th>f0_</th>\n",
       "    </tr>\n",
       "  </thead>\n",
       "  <tbody>\n",
       "    <tr>\n",
       "      <th>0</th>\n",
       "      <td>56497</td>\n",
       "    </tr>\n",
       "  </tbody>\n",
       "</table>\n",
       "</div>"
      ],
      "text/plain": [
       "     f0_\n",
       "0  56497"
      ]
     },
     "execution_count": 2,
     "metadata": {},
     "output_type": "execute_result"
    }
   ],
   "source": [
    "%%bigquery \n",
    "SELECT COUNT(*),\n",
    "FROM `bigquery-public-data.san_francisco.bikeshare_trips`\n",
    "WHERE subscriber_type = \"Subscriber\"\n",
    "AND EXTRACT(DAYOFWEEK FROM start_date) \n",
    "IN (1, 7) \n",
    "AND duration_sec > 60 "
   ]
  },
  {
   "cell_type": "code",
   "execution_count": 3,
   "id": "1f823ca9",
   "metadata": {},
   "outputs": [
    {
     "data": {
      "text/plain": [
       "0.5060414707331273"
      ]
     },
     "execution_count": 3,
     "metadata": {},
     "output_type": "execute_result"
    }
   ],
   "source": [
    "56497 / 111645"
   ]
  },
  {
   "cell_type": "markdown",
   "id": "64a40d6c",
   "metadata": {},
   "source": [
    "Only 50% of weekend riders are Subscribers. Since becoming a Subscriber encourages riders to use the bikeshare features more, I would recommend creating specials or offers that encourage weekend riders to become Subscribers, which also increases their chances of using the bikes during the week if they have a subscription. In addition, since weekend riders only ride the bikes for short tripes (less than 3.5 mins), I would recommend looking into offers or subscriptions that incentivize using the bikes for longer periods of time. \n",
    "\n",
    "Currently, there are only 3 different bikeshare options: Membership, Single Trip, and Bike Share for All. All of these options do not discriminate between weekday and weekend bike rides. Because more \"Customers\" (ie. non-Subscribers) ride bikes on the weekend, I would recommend creating offers that decrease the cost of riding the bike compared to a \"Single Trip\" on the weekends with the subscription model -- but also make bike rides during the week even cheaper so that weekend riders are encouraged to use the bikes during the week as well. "
   ]
  }
 ],
 "metadata": {
  "environment": {
   "name": "common-cpu.m79",
   "type": "gcloud",
   "uri": "gcr.io/deeplearning-platform-release/base-cpu:m79"
  },
  "kernelspec": {
   "display_name": "Python 3",
   "language": "python",
   "name": "python3"
  },
  "language_info": {
   "codemirror_mode": {
    "name": "ipython",
    "version": 3
   },
   "file_extension": ".py",
   "mimetype": "text/x-python",
   "name": "python",
   "nbconvert_exporter": "python",
   "pygments_lexer": "ipython3",
   "version": "3.7.10"
  }
 },
 "nbformat": 4,
 "nbformat_minor": 5
}
