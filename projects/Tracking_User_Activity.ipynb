{
 "cells": [
  {
   "cell_type": "markdown",
   "id": "b3a0949d",
   "metadata": {},
   "source": [
    "# Project 2: Tracking User Activity"
   ]
  },
  {
   "cell_type": "markdown",
   "id": "55026c0c",
   "metadata": {},
   "source": [
    "This notebook serves as a step-by-step tuide to build the pipeline, consume messages in Spark, and run transformations to land assessments data so that it could be queried by clients."
   ]
  },
  {
   "cell_type": "markdown",
   "id": "7939ec56",
   "metadata": {},
   "source": [
    "### JSON file"
   ]
  },
  {
   "cell_type": "markdown",
   "id": "be727cd4",
   "metadata": {},
   "source": [
    "**1. access the data by using curl and explore the data structure**"
   ]
  },
  {
   "cell_type": "code",
   "execution_count": 32,
   "id": "f2650978",
   "metadata": {},
   "outputs": [
    {
     "name": "stdout",
     "output_type": "stream",
     "text": [
      "  % Total    % Received % Xferd  Average Speed   Time    Time     Time  Current\n",
      "                                 Dload  Upload   Total   Spent    Left  Speed\n",
      "  0     0    0     0    0     0      0      0 --:--:-- --:--:-- --:--:--     0\n",
      "100 9096k  100 9096k    0     0  21.0M      0 --:--:-- --:--:-- --:--:-- 58.0M\n"
     ]
    }
   ],
   "source": [
    "!curl -L -o assessment-attempts-20180128-121051-nested.json https://goo.gl/ME6hjp"
   ]
  },
  {
   "cell_type": "code",
   "execution_count": 33,
   "id": "112f0a89",
   "metadata": {},
   "outputs": [
    {
     "name": "stdout",
     "output_type": "stream",
     "text": [
      "\u001b[1;39m{\n",
      "  \u001b[0m\u001b[34;1m\"keen_timestamp\"\u001b[0m\u001b[1;39m: \u001b[0m\u001b[0;32m\"1516717442.735266\"\u001b[0m\u001b[1;39m,\n",
      "  \u001b[0m\u001b[34;1m\"max_attempts\"\u001b[0m\u001b[1;39m: \u001b[0m\u001b[0;32m\"1.0\"\u001b[0m\u001b[1;39m,\n",
      "  \u001b[0m\u001b[34;1m\"started_at\"\u001b[0m\u001b[1;39m: \u001b[0m\u001b[0;32m\"2018-01-23T14:23:19.082Z\"\u001b[0m\u001b[1;39m,\n",
      "  \u001b[0m\u001b[34;1m\"base_exam_id\"\u001b[0m\u001b[1;39m: \u001b[0m\u001b[0;32m\"37f0a30a-7464-11e6-aa92-a8667f27e5dc\"\u001b[0m\u001b[1;39m,\n",
      "  \u001b[0m\u001b[34;1m\"user_exam_id\"\u001b[0m\u001b[1;39m: \u001b[0m\u001b[0;32m\"6d4089e4-bde5-4a22-b65f-18bce9ab79c8\"\u001b[0m\u001b[1;39m,\n",
      "  \u001b[0m\u001b[34;1m\"sequences\"\u001b[0m\u001b[1;39m: \u001b[0m\u001b[1;39m{\n",
      "    \u001b[0m\u001b[34;1m\"questions\"\u001b[0m\u001b[1;39m: \u001b[0m\u001b[1;39m[\n",
      "      \u001b[1;39m{\n",
      "        \u001b[0m\u001b[34;1m\"user_incomplete\"\u001b[0m\u001b[1;39m: \u001b[0m\u001b[0;39mtrue\u001b[0m\u001b[1;39m,\n",
      "        \u001b[0m\u001b[34;1m\"user_correct\"\u001b[0m\u001b[1;39m: \u001b[0m\u001b[0;39mfalse\u001b[0m\u001b[1;39m,\n",
      "        \u001b[0m\u001b[34;1m\"options\"\u001b[0m\u001b[1;39m: \u001b[0m\u001b[1;39m[\n",
      "          \u001b[1;39m{\n",
      "            \u001b[0m\u001b[34;1m\"checked\"\u001b[0m\u001b[1;39m: \u001b[0m\u001b[0;39mtrue\u001b[0m\u001b[1;39m,\n",
      "            \u001b[0m\u001b[34;1m\"at\"\u001b[0m\u001b[1;39m: \u001b[0m\u001b[0;32m\"2018-01-23T14:23:24.670Z\"\u001b[0m\u001b[1;39m,\n",
      "            \u001b[0m\u001b[34;1m\"id\"\u001b[0m\u001b[1;39m: \u001b[0m\u001b[0;32m\"49c574b4-5c82-4ffd-9bd1-c3358faf850d\"\u001b[0m\u001b[1;39m,\n",
      "            \u001b[0m\u001b[34;1m\"submitted\"\u001b[0m\u001b[1;39m: \u001b[0m\u001b[0;39m1\u001b[0m\u001b[1;39m,\n",
      "            \u001b[0m\u001b[34;1m\"correct\"\u001b[0m\u001b[1;39m: \u001b[0m\u001b[0;39mtrue\u001b[0m\u001b[1;39m\n",
      "          \u001b[1;39m}\u001b[0m\u001b[1;39m,\n",
      "          \u001b[1;39m{\n",
      "            \u001b[0m\u001b[34;1m\"checked\"\u001b[0m\u001b[1;39m: \u001b[0m\u001b[0;39mtrue\u001b[0m\u001b[1;39m,\n",
      "            \u001b[0m\u001b[34;1m\"at\"\u001b[0m\u001b[1;39m: \u001b[0m\u001b[0;32m\"2018-01-23T14:23:25.914Z\"\u001b[0m\u001b[1;39m,\n",
      "            \u001b[0m\u001b[34;1m\"id\"\u001b[0m\u001b[1;39m: \u001b[0m\u001b[0;32m\"f2528210-35c3-4320-acf3-9056567ea19f\"\u001b[0m\u001b[1;39m,\n",
      "            \u001b[0m\u001b[34;1m\"submitted\"\u001b[0m\u001b[1;39m: \u001b[0m\u001b[0;39m1\u001b[0m\u001b[1;39m,\n",
      "            \u001b[0m\u001b[34;1m\"correct\"\u001b[0m\u001b[1;39m: \u001b[0m\u001b[0;39mtrue\u001b[0m\u001b[1;39m\n",
      "          \u001b[1;39m}\u001b[0m\u001b[1;39m,\n",
      "          \u001b[1;39m{\n",
      "            \u001b[0m\u001b[34;1m\"checked\"\u001b[0m\u001b[1;39m: \u001b[0m\u001b[0;39mfalse\u001b[0m\u001b[1;39m,\n",
      "            \u001b[0m\u001b[34;1m\"correct\"\u001b[0m\u001b[1;39m: \u001b[0m\u001b[0;39mtrue\u001b[0m\u001b[1;39m,\n",
      "            \u001b[0m\u001b[34;1m\"id\"\u001b[0m\u001b[1;39m: \u001b[0m\u001b[0;32m\"d1bf026f-554f-4543-bdd2-54dcf105b826\"\u001b[0m\u001b[1;39m\n",
      "          \u001b[1;39m}\u001b[0m\u001b[1;39m\n",
      "        \u001b[1;39m]\u001b[0m\u001b[1;39m,\n",
      "        \u001b[0m\u001b[34;1m\"user_submitted\"\u001b[0m\u001b[1;39m: \u001b[0m\u001b[0;39mtrue\u001b[0m\u001b[1;39m,\n",
      "        \u001b[0m\u001b[34;1m\"id\"\u001b[0m\u001b[1;39m: \u001b[0m\u001b[0;32m\"7a2ed6d3-f492-49b3-b8aa-d080a8aad986\"\u001b[0m\u001b[1;39m,\n",
      "        \u001b[0m\u001b[34;1m\"user_result\"\u001b[0m\u001b[1;39m: \u001b[0m\u001b[0;32m\"missed_some\"\u001b[0m\u001b[1;39m\n",
      "      \u001b[1;39m}\u001b[0m\u001b[1;39m,\n",
      "      \u001b[1;39m{\n",
      "        \u001b[0m\u001b[34;1m\"user_incomplete\"\u001b[0m\u001b[1;39m: \u001b[0m\u001b[0;39mfalse\u001b[0m\u001b[1;39m,\n",
      "        \u001b[0m\u001b[34;1m\"user_correct\"\u001b[0m\u001b[1;39m: \u001b[0m\u001b[0;39mfalse\u001b[0m\u001b[1;39m,\n",
      "        \u001b[0m\u001b[34;1m\"options\"\u001b[0m\u001b[1;39m: \u001b[0m\u001b[1;39m[\n",
      "          \u001b[1;39m{\n",
      "            \u001b[0m\u001b[34;1m\"checked\"\u001b[0m\u001b[1;39m: \u001b[0m\u001b[0;39mtrue\u001b[0m\u001b[1;39m,\n",
      "            \u001b[0m\u001b[34;1m\"at\"\u001b[0m\u001b[1;39m: \u001b[0m\u001b[0;32m\"2018-01-23T14:23:30.116Z\"\u001b[0m\u001b[1;39m,\n",
      "            \u001b[0m\u001b[34;1m\"id\"\u001b[0m\u001b[1;39m: \u001b[0m\u001b[0;32m\"a35d0e80-8c49-415d-b8cb-c21a02627e2b\"\u001b[0m\u001b[1;39m,\n",
      "            \u001b[0m\u001b[34;1m\"submitted\"\u001b[0m\u001b[1;39m: \u001b[0m\u001b[0;39m1\u001b[0m\u001b[1;39m\n",
      "          \u001b[1;39m}\u001b[0m\u001b[1;39m,\n",
      "          \u001b[1;39m{\n",
      "            \u001b[0m\u001b[34;1m\"checked\"\u001b[0m\u001b[1;39m: \u001b[0m\u001b[0;39mfalse\u001b[0m\u001b[1;39m,\n",
      "            \u001b[0m\u001b[34;1m\"correct\"\u001b[0m\u001b[1;39m: \u001b[0m\u001b[0;39mtrue\u001b[0m\u001b[1;39m,\n",
      "            \u001b[0m\u001b[34;1m\"id\"\u001b[0m\u001b[1;39m: \u001b[0m\u001b[0;32m\"bccd6e2e-2cef-4c72-8bfa-317db0ac48bb\"\u001b[0m\u001b[1;39m\n",
      "          \u001b[1;39m}\u001b[0m\u001b[1;39m,\n",
      "          \u001b[1;39m{\n",
      "            \u001b[0m\u001b[34;1m\"checked\"\u001b[0m\u001b[1;39m: \u001b[0m\u001b[0;39mtrue\u001b[0m\u001b[1;39m,\n",
      "            \u001b[0m\u001b[34;1m\"at\"\u001b[0m\u001b[1;39m: \u001b[0m\u001b[0;32m\"2018-01-23T14:23:41.791Z\"\u001b[0m\u001b[1;39m,\n",
      "            \u001b[0m\u001b[34;1m\"id\"\u001b[0m\u001b[1;39m: \u001b[0m\u001b[0;32m\"7e0b639a-2ef8-4604-b7eb-5018bd81a91b\"\u001b[0m\u001b[1;39m,\n",
      "            \u001b[0m\u001b[34;1m\"submitted\"\u001b[0m\u001b[1;39m: \u001b[0m\u001b[0;39m1\u001b[0m\u001b[1;39m,\n",
      "            \u001b[0m\u001b[34;1m\"correct\"\u001b[0m\u001b[1;39m: \u001b[0m\u001b[0;39mtrue\u001b[0m\u001b[1;39m\n",
      "          \u001b[1;39m}\u001b[0m\u001b[1;39m\n",
      "        \u001b[1;39m]\u001b[0m\u001b[1;39m,\n",
      "        \u001b[0m\u001b[34;1m\"user_submitted\"\u001b[0m\u001b[1;39m: \u001b[0m\u001b[0;39mtrue\u001b[0m\u001b[1;39m,\n",
      "        \u001b[0m\u001b[34;1m\"id\"\u001b[0m\u001b[1;39m: \u001b[0m\u001b[0;32m\"bbed4358-999d-4462-9596-bad5173a6ecb\"\u001b[0m\u001b[1;39m,\n",
      "        \u001b[0m\u001b[34;1m\"user_result\"\u001b[0m\u001b[1;39m: \u001b[0m\u001b[0;32m\"incorrect\"\u001b[0m\u001b[1;39m\n",
      "      \u001b[1;39m}\u001b[0m\u001b[1;39m,\n",
      "      \u001b[1;39m{\n",
      "        \u001b[0m\u001b[34;1m\"user_incomplete\"\u001b[0m\u001b[1;39m: \u001b[0m\u001b[0;39mfalse\u001b[0m\u001b[1;39m,\n",
      "        \u001b[0m\u001b[34;1m\"user_correct\"\u001b[0m\u001b[1;39m: \u001b[0m\u001b[0;39mtrue\u001b[0m\u001b[1;39m,\n",
      "        \u001b[0m\u001b[34;1m\"options\"\u001b[0m\u001b[1;39m: \u001b[0m\u001b[1;39m[\n",
      "          \u001b[1;39m{\n",
      "            \u001b[0m\u001b[34;1m\"checked\"\u001b[0m\u001b[1;39m: \u001b[0m\u001b[0;39mfalse\u001b[0m\u001b[1;39m,\n",
      "            \u001b[0m\u001b[34;1m\"at\"\u001b[0m\u001b[1;39m: \u001b[0m\u001b[0;32m\"2018-01-23T14:23:52.510Z\"\u001b[0m\u001b[1;39m,\n",
      "            \u001b[0m\u001b[34;1m\"id\"\u001b[0m\u001b[1;39m: \u001b[0m\u001b[0;32m\"a9333679-de9d-41ff-bb3d-b239d6b95732\"\u001b[0m\u001b[1;39m\n",
      "          \u001b[1;39m}\u001b[0m\u001b[1;39m,\n",
      "          \u001b[1;39m{\n",
      "            \u001b[0m\u001b[34;1m\"checked\"\u001b[0m\u001b[1;39m: \u001b[0m\u001b[0;39mfalse\u001b[0m\u001b[1;39m,\n",
      "            \u001b[0m\u001b[34;1m\"id\"\u001b[0m\u001b[1;39m: \u001b[0m\u001b[0;32m\"85795acc-b4b1-4510-bd6e-41648a3553c9\"\u001b[0m\u001b[1;39m\n",
      "          \u001b[1;39m}\u001b[0m\u001b[1;39m,\n",
      "          \u001b[1;39m{\n",
      "            \u001b[0m\u001b[34;1m\"checked\"\u001b[0m\u001b[1;39m: \u001b[0m\u001b[0;39mtrue\u001b[0m\u001b[1;39m,\n",
      "            \u001b[0m\u001b[34;1m\"at\"\u001b[0m\u001b[1;39m: \u001b[0m\u001b[0;32m\"2018-01-23T14:23:54.223Z\"\u001b[0m\u001b[1;39m,\n",
      "            \u001b[0m\u001b[34;1m\"id\"\u001b[0m\u001b[1;39m: \u001b[0m\u001b[0;32m\"c185ecdb-48fb-4edb-ae4e-0204ac7a0909\"\u001b[0m\u001b[1;39m,\n",
      "            \u001b[0m\u001b[34;1m\"submitted\"\u001b[0m\u001b[1;39m: \u001b[0m\u001b[0;39m1\u001b[0m\u001b[1;39m,\n",
      "            \u001b[0m\u001b[34;1m\"correct\"\u001b[0m\u001b[1;39m: \u001b[0m\u001b[0;39mtrue\u001b[0m\u001b[1;39m\n",
      "          \u001b[1;39m}\u001b[0m\u001b[1;39m,\n",
      "          \u001b[1;39m{\n",
      "            \u001b[0m\u001b[34;1m\"checked\"\u001b[0m\u001b[1;39m: \u001b[0m\u001b[0;39mtrue\u001b[0m\u001b[1;39m,\n",
      "            \u001b[0m\u001b[34;1m\"at\"\u001b[0m\u001b[1;39m: \u001b[0m\u001b[0;32m\"2018-01-23T14:23:53.862Z\"\u001b[0m\u001b[1;39m,\n",
      "            \u001b[0m\u001b[34;1m\"id\"\u001b[0m\u001b[1;39m: \u001b[0m\u001b[0;32m\"77a66c83-d001-45cd-9a5a-6bba8eb7389e\"\u001b[0m\u001b[1;39m,\n",
      "            \u001b[0m\u001b[34;1m\"submitted\"\u001b[0m\u001b[1;39m: \u001b[0m\u001b[0;39m1\u001b[0m\u001b[1;39m,\n",
      "            \u001b[0m\u001b[34;1m\"correct\"\u001b[0m\u001b[1;39m: \u001b[0m\u001b[0;39mtrue\u001b[0m\u001b[1;39m\n",
      "          \u001b[1;39m}\u001b[0m\u001b[1;39m\n",
      "        \u001b[1;39m]\u001b[0m\u001b[1;39m,\n",
      "        \u001b[0m\u001b[34;1m\"user_submitted\"\u001b[0m\u001b[1;39m: \u001b[0m\u001b[0;39mtrue\u001b[0m\u001b[1;39m,\n",
      "        \u001b[0m\u001b[34;1m\"id\"\u001b[0m\u001b[1;39m: \u001b[0m\u001b[0;32m\"e6ad8644-96b1-4617-b37b-a263dded202c\"\u001b[0m\u001b[1;39m,\n",
      "        \u001b[0m\u001b[34;1m\"user_result\"\u001b[0m\u001b[1;39m: \u001b[0m\u001b[0;32m\"correct\"\u001b[0m\u001b[1;39m\n",
      "      \u001b[1;39m}\u001b[0m\u001b[1;39m,\n",
      "      \u001b[1;39m{\n",
      "        \u001b[0m\u001b[34;1m\"user_incomplete\"\u001b[0m\u001b[1;39m: \u001b[0m\u001b[0;39mfalse\u001b[0m\u001b[1;39m,\n",
      "        \u001b[0m\u001b[34;1m\"user_correct\"\u001b[0m\u001b[1;39m: \u001b[0m\u001b[0;39mtrue\u001b[0m\u001b[1;39m,\n",
      "        \u001b[0m\u001b[34;1m\"options\"\u001b[0m\u001b[1;39m: \u001b[0m\u001b[1;39m[\n",
      "          \u001b[1;39m{\n",
      "            \u001b[0m\u001b[34;1m\"checked\"\u001b[0m\u001b[1;39m: \u001b[0m\u001b[0;39mfalse\u001b[0m\u001b[1;39m,\n",
      "            \u001b[0m\u001b[34;1m\"id\"\u001b[0m\u001b[1;39m: \u001b[0m\u001b[0;32m\"59b9fc4b-f239-4850-b1f9-912d1fd3ca13\"\u001b[0m\u001b[1;39m\n",
      "          \u001b[1;39m}\u001b[0m\u001b[1;39m,\n",
      "          \u001b[1;39m{\n",
      "            \u001b[0m\u001b[34;1m\"checked\"\u001b[0m\u001b[1;39m: \u001b[0m\u001b[0;39mfalse\u001b[0m\u001b[1;39m,\n",
      "            \u001b[0m\u001b[34;1m\"id\"\u001b[0m\u001b[1;39m: \u001b[0m\u001b[0;32m\"2c29e8e8-d4a8-406e-9cdf-de28ec5890fe\"\u001b[0m\u001b[1;39m\n",
      "          \u001b[1;39m}\u001b[0m\u001b[1;39m,\n",
      "          \u001b[1;39m{\n",
      "            \u001b[0m\u001b[34;1m\"checked\"\u001b[0m\u001b[1;39m: \u001b[0m\u001b[0;39mfalse\u001b[0m\u001b[1;39m,\n",
      "            \u001b[0m\u001b[34;1m\"id\"\u001b[0m\u001b[1;39m: \u001b[0m\u001b[0;32m\"62feee6e-9b76-4123-bd9e-c0b35126b1f1\"\u001b[0m\u001b[1;39m\n",
      "          \u001b[1;39m}\u001b[0m\u001b[1;39m,\n",
      "          \u001b[1;39m{\n",
      "            \u001b[0m\u001b[34;1m\"checked\"\u001b[0m\u001b[1;39m: \u001b[0m\u001b[0;39mtrue\u001b[0m\u001b[1;39m,\n",
      "            \u001b[0m\u001b[34;1m\"at\"\u001b[0m\u001b[1;39m: \u001b[0m\u001b[0;32m\"2018-01-23T14:24:00.807Z\"\u001b[0m\u001b[1;39m,\n",
      "            \u001b[0m\u001b[34;1m\"id\"\u001b[0m\u001b[1;39m: \u001b[0m\u001b[0;32m\"7f13df9c-fcbe-4424-914f-2206f106765c\"\u001b[0m\u001b[1;39m,\n",
      "            \u001b[0m\u001b[34;1m\"submitted\"\u001b[0m\u001b[1;39m: \u001b[0m\u001b[0;39m1\u001b[0m\u001b[1;39m,\n",
      "            \u001b[0m\u001b[34;1m\"correct\"\u001b[0m\u001b[1;39m: \u001b[0m\u001b[0;39mtrue\u001b[0m\u001b[1;39m\n",
      "          \u001b[1;39m}\u001b[0m\u001b[1;39m\n",
      "        \u001b[1;39m]\u001b[0m\u001b[1;39m,\n",
      "        \u001b[0m\u001b[34;1m\"user_submitted\"\u001b[0m\u001b[1;39m: \u001b[0m\u001b[0;39mtrue\u001b[0m\u001b[1;39m,\n",
      "        \u001b[0m\u001b[34;1m\"id\"\u001b[0m\u001b[1;39m: \u001b[0m\u001b[0;32m\"95194331-ac43-454e-83de-ea8913067055\"\u001b[0m\u001b[1;39m,\n",
      "        \u001b[0m\u001b[34;1m\"user_result\"\u001b[0m\u001b[1;39m: \u001b[0m\u001b[0;32m\"correct\"\u001b[0m\u001b[1;39m\n",
      "      \u001b[1;39m}\u001b[0m\u001b[1;39m\n",
      "    \u001b[1;39m]\u001b[0m\u001b[1;39m,\n",
      "    \u001b[0m\u001b[34;1m\"attempt\"\u001b[0m\u001b[1;39m: \u001b[0m\u001b[0;39m1\u001b[0m\u001b[1;39m,\n",
      "    \u001b[0m\u001b[34;1m\"id\"\u001b[0m\u001b[1;39m: \u001b[0m\u001b[0;32m\"5b28a462-7a3b-42e0-b508-09f3906d1703\"\u001b[0m\u001b[1;39m,\n",
      "    \u001b[0m\u001b[34;1m\"counts\"\u001b[0m\u001b[1;39m: \u001b[0m\u001b[1;39m{\n",
      "      \u001b[0m\u001b[34;1m\"incomplete\"\u001b[0m\u001b[1;39m: \u001b[0m\u001b[0;39m1\u001b[0m\u001b[1;39m,\n",
      "      \u001b[0m\u001b[34;1m\"submitted\"\u001b[0m\u001b[1;39m: \u001b[0m\u001b[0;39m4\u001b[0m\u001b[1;39m,\n",
      "      \u001b[0m\u001b[34;1m\"incorrect\"\u001b[0m\u001b[1;39m: \u001b[0m\u001b[0;39m1\u001b[0m\u001b[1;39m,\n",
      "      \u001b[0m\u001b[34;1m\"all_correct\"\u001b[0m\u001b[1;39m: \u001b[0m\u001b[0;39mfalse\u001b[0m\u001b[1;39m,\n",
      "      \u001b[0m\u001b[34;1m\"correct\"\u001b[0m\u001b[1;39m: \u001b[0m\u001b[0;39m2\u001b[0m\u001b[1;39m,\n",
      "      \u001b[0m\u001b[34;1m\"total\"\u001b[0m\u001b[1;39m: \u001b[0m\u001b[0;39m4\u001b[0m\u001b[1;39m,\n",
      "      \u001b[0m\u001b[34;1m\"unanswered\"\u001b[0m\u001b[1;39m: \u001b[0m\u001b[0;39m0\u001b[0m\u001b[1;39m\n",
      "    \u001b[1;39m}\u001b[0m\u001b[1;39m\n",
      "  \u001b[1;39m}\u001b[0m\u001b[1;39m,\n",
      "  \u001b[0m\u001b[34;1m\"keen_created_at\"\u001b[0m\u001b[1;39m: \u001b[0m\u001b[0;32m\"1516717442.735266\"\u001b[0m\u001b[1;39m,\n",
      "  \u001b[0m\u001b[34;1m\"certification\"\u001b[0m\u001b[1;39m: \u001b[0m\u001b[0;32m\"false\"\u001b[0m\u001b[1;39m,\n",
      "  \u001b[0m\u001b[34;1m\"keen_id\"\u001b[0m\u001b[1;39m: \u001b[0m\u001b[0;32m\"5a6745820eb8ab00016be1f1\"\u001b[0m\u001b[1;39m,\n",
      "  \u001b[0m\u001b[34;1m\"exam_name\"\u001b[0m\u001b[1;39m: \u001b[0m\u001b[0;32m\"Normal Forms and All That Jazz Master Class\"\u001b[0m\u001b[1;39m\n",
      "\u001b[1;39m}\u001b[0m\n"
     ]
    }
   ],
   "source": [
    "!cat assessment-attempts-20180128-121051-nested.json | jq '.[0]'"
   ]
  },
  {
   "cell_type": "markdown",
   "id": "f62e3d53",
   "metadata": {},
   "source": [
    "### Kafka: publish and consume messages"
   ]
  },
  {
   "cell_type": "markdown",
   "id": "6d3d25cb",
   "metadata": {},
   "source": [
    "**2. spin up cluster using docker-compose (extra step: check the containers with ps)**"
   ]
  },
  {
   "cell_type": "code",
   "execution_count": 34,
   "id": "54a115e4",
   "metadata": {},
   "outputs": [
    {
     "name": "stdout",
     "output_type": "stream",
     "text": [
      "project-2-redcarrott_zookeeper_1 is up-to-date\n",
      "project-2-redcarrott_cloudera_1 is up-to-date\n",
      "project-2-redcarrott_mids_1 is up-to-date\n",
      "project-2-redcarrott_kafka_1 is up-to-date\n",
      "project-2-redcarrott_spark_1 is up-to-date\n"
     ]
    }
   ],
   "source": [
    "!docker-compose up -d"
   ]
  },
  {
   "cell_type": "code",
   "execution_count": 35,
   "id": "49120139",
   "metadata": {},
   "outputs": [
    {
     "name": "stdout",
     "output_type": "stream",
     "text": [
      "         Name                   Command           State           Ports         \n",
      "--------------------------------------------------------------------------------\n",
      "project-2-redcarrott_c   cdh_startup_script.sh    Up      11000/tcp, 11443/tcp, \n",
      "loudera_1                                                 19888/tcp, 50070/tcp, \n",
      "                                                          8020/tcp, 8088/tcp,   \n",
      "                                                          8888/tcp, 9090/tcp    \n",
      "project-2-redcarrott_k   /etc/confluent/docker/   Up      29092/tcp, 9092/tcp   \n",
      "afka_1                   run                                                    \n",
      "project-2-redcarrott_m   /bin/bash                Up      8888/tcp              \n",
      "ids_1                                                                           \n",
      "project-2-redcarrott_s   docker-entrypoint.sh     Up      0.0.0.0:8888->8888/tcp\n",
      "park_1                   bash                             ,:::8888->8888/tcp    \n",
      "project-2-redcarrott_z   /etc/confluent/docker/   Up      2181/tcp, 2888/tcp,   \n",
      "ookeeper_1               run                              32181/tcp, 3888/tcp   \n"
     ]
    }
   ],
   "source": [
    "!docker-compose ps"
   ]
  },
  {
   "cell_type": "markdown",
   "id": "2a602ba7",
   "metadata": {},
   "source": [
    "**3. create assessments topic + check that the topic has been properly created**"
   ]
  },
  {
   "cell_type": "code",
   "execution_count": 36,
   "id": "843959c4",
   "metadata": {},
   "outputs": [],
   "source": [
    "!docker-compose exec kafka kafka-topics --create --topic assessments --partitions 1 --replication-factor 1 --if-not-exists --zookeeper zookeeper:32181"
   ]
  },
  {
   "cell_type": "code",
   "execution_count": 37,
   "id": "769732ca",
   "metadata": {},
   "outputs": [
    {
     "name": "stdout",
     "output_type": "stream",
     "text": [
      "Topic: assessments\tTopicId: 8hR6gdn8T_ml68OjE4l1uQ\tPartitionCount: 1\tReplicationFactor: 1\tConfigs: \n",
      "\tTopic: assessments\tPartition: 0\tLeader: 1\tReplicas: 1\tIsr: 1\n"
     ]
    }
   ],
   "source": [
    "!docker-compose exec kafka kafka-topics --describe --topic assessments --zookeeper zookeeper:32181"
   ]
  },
  {
   "cell_type": "markdown",
   "id": "28fb4c13",
   "metadata": {},
   "source": [
    "**4. publish messages to the assessments topic**"
   ]
  },
  {
   "cell_type": "code",
   "execution_count": 50,
   "id": "c3e8cd1e",
   "metadata": {},
   "outputs": [
    {
     "name": "stdout",
     "output_type": "stream",
     "text": [
      "cat: /project-2-redcarrot/assessment-attempts-20180128-121051-nested.json: No such file or directory\n",
      "Messages published\n"
     ]
    }
   ],
   "source": [
    "!docker-compose exec mids bash -c \"cat /project-2-redcarrot/assessment-attempts-20180128-121051-nested.json | jq '.[]' -c | kafkacat -P -b kafka:29092 -t assessments && echo 'Messages published'\""
   ]
  },
  {
   "cell_type": "markdown",
   "id": "7f9ef0b6",
   "metadata": {},
   "source": [
    "### Spark"
   ]
  },
  {
   "cell_type": "markdown",
   "id": "8495f67b",
   "metadata": {},
   "source": [
    "**5. launch Spark session in Jupyter notebook**"
   ]
  },
  {
   "cell_type": "code",
   "execution_count": 25,
   "id": "889a144f",
   "metadata": {},
   "outputs": [
    {
     "name": "stdout",
     "output_type": "stream",
     "text": [
      "Python 3.6.1 |Anaconda 4.4.0 (64-bit)| (default, May 11 2017, 13:09:58) \n",
      "[GCC 4.4.7 20120313 (Red Hat 4.4.7-1)] on linux\n",
      "Type \"help\", \"copyright\", \"credits\" or \"license\" for more information.\n",
      "Using Spark's default log4j profile: org/apache/spark/log4j-defaults.properties\n",
      "Setting default log level to \"WARN\".\n",
      "To adjust logging level use sc.setLogLevel(newLevel). For SparkR, use setLogLevel(newLevel).\n",
      "21/10/25 05:42:56 WARN NativeCodeLoader: Unable to load native-hadoop library for your platform... using builtin-java classes where applicable\n",
      "21/10/25 05:43:09 WARN ObjectStore: Version information not found in metastore. hive.metastore.schema.verification is not enabled so recording the schema version 1.2.0\n",
      "21/10/25 05:43:10 WARN ObjectStore: Failed to get database default, returning NoSuchObjectException\n",
      "21/10/25 05:43:12 WARN ObjectStore: Failed to get database global_temp, returning NoSuchObjectException\n",
      "Welcome to\n",
      "      ____              __\n",
      "     / __/__  ___ _____/ /__\n",
      "    _\\ \\/ _ \\/ _ `/ __/  '_/\n",
      "   /__ / .__/\\_,_/_/ /_/\\_\\   version 2.2.0\n",
      "      /_/\n",
      "\n",
      "Using Python version 3.6.1 (default, May 11 2017 13:09:58)\n",
      "SparkSession available as 'spark'.\n",
      ">>> \n",
      "Traceback (most recent call last):\n",
      "  File \"<stdin>\", line 1, in <module>\n",
      "  File \"/spark-2.2.0-bin-hadoop2.6/python/pyspark/context.py\", line 237, in signal_handler\n",
      "    raise KeyboardInterrupt()\n",
      "KeyboardInterrupt\n",
      ">>> "
     ]
    }
   ],
   "source": [
    "!docker-compose exec spark pyspark"
   ]
  },
  {
   "cell_type": "code",
   "execution_count": 30,
   "id": "7ab8eb6c",
   "metadata": {},
   "outputs": [
    {
     "name": "stdout",
     "output_type": "stream",
     "text": [
      "^C\n",
      "Traceback (most recent call last):\n",
      "  File \"/opt/anaconda3/bin/jupyter-notebook\", line 6, in <module>\n",
      "    sys.exit(notebook.notebookapp.main())\n",
      "  File \"/opt/anaconda3/lib/python3.6/site-packages/jupyter_core/application.py\", line 267, in launch_instance\n",
      "    return super(JupyterApp, cls).launch_instance(argv=argv, **kwargs)\n",
      "  File \"/opt/anaconda3/lib/python3.6/site-packages/traitlets/config/application.py\", line 657, in launch_instance\n",
      "    app.initialize(argv)\n",
      "  File \"<decorator-gen-7>\", line 2, in initialize\n",
      "  File \"/opt/anaconda3/lib/python3.6/site-packages/traitlets/config/application.py\", line 87, in catch_config_error\n",
      "    return method(app, *args, **kwargs)\n",
      "  File \"/opt/anaconda3/lib/python3.6/site-packages/notebook/notebookapp.py\", line 1290, in initialize\n",
      "    super(NotebookApp, self).initialize(argv)\n",
      "  File \"<decorator-gen-6>\", line 2, in initialize\n",
      "  File \"/opt/anaconda3/lib/python3.6/site-packages/traitlets/config/application.py\", line 87, in catch_config_error\n",
      "    return method(app, *args, **kwargs)\n",
      "  File \"/opt/anaconda3/lib/python3.6/site-packages/jupyter_core/application.py\", line 243, in initialize\n",
      "    self.migrate_config()\n",
      "  File \"/opt/anaconda3/lib/python3.6/site-packages/jupyter_core/application.py\", line 162, in migrate_config\n",
      "    from .migrate import get_ipython_dir, migrate\n",
      "  File \"/opt/anaconda3/lib/python3.6/site-packages/jupyter_core/migrate.py\", line 35, in <module>\n",
      "    from IPython.paths import get_ipython_dir\n",
      "  File \"/opt/anaconda3/lib/python3.6/site-packages/IPython/__init__.py\", line 49, in <module>\n",
      "    from .terminal.embed import embed\n",
      "  File \"/opt/anaconda3/lib/python3.6/site-packages/IPython/terminal/embed.py\", line 18, in <module>\n",
      "    from IPython.terminal.interactiveshell import TerminalInteractiveShell\n",
      "  File \"/opt/anaconda3/lib/python3.6/site-packages/IPython/terminal/interactiveshell.py\", line 94, in <module>\n",
      "    class TerminalInteractiveShell(InteractiveShell):\n",
      "  File \"/opt/anaconda3/lib/python3.6/site-packages/IPython/terminal/interactiveshell.py\", line 139, in TerminalInteractiveShell\n",
      "    highlighting: \\n %s\"\"\" % ', '.join(get_all_styles())\n",
      "  File \"/opt/anaconda3/lib/python3.6/site-packages/pygments/styles/__init__.py\", line 79, in get_all_styles\n",
      "    for name, _ in find_plugin_styles():\n",
      "  File \"/opt/anaconda3/lib/python3.6/site-packages/pygments/plugin.py\", line 62, in find_plugin_styles\n",
      "    for entrypoint in iter_entry_points(STYLE_ENTRY_POINT):\n",
      "  File \"/opt/anaconda3/lib/python3.6/site-packages/pygments/plugin.py\", line 45, in iter_entry_points\n",
      "    import pkg_resources\n",
      "  File \"<frozen importlib._bootstrap>\", line 961, in _find_and_load\n",
      "  File \"<frozen importlib._bootstrap>\", line 950, in _find_and_load_unlocked\n",
      "  File \"<frozen importlib._bootstrap>\", line 646, in _load_unlocked\n",
      "  File \"<frozen importlib._bootstrap>\", line 616, in _load_backward_compatible\n",
      "  File \"<frozen importlib._bootstrap_external>\", line 1336, in _fix_up_module\n",
      "KeyboardInterrupt\n"
     ]
    }
   ],
   "source": [
    "!docker-compose exec spark env PYSPARK_DRIVER_PYTHON=jupyter PYSPARK_DRIVER_PYTHON_OPTS='notebook --no-browser --port 8888 --ip 0.0.0.0 --allow-root --notebook-dir=/w205/' pyspark"
   ]
  },
  {
   "cell_type": "markdown",
   "id": "aafebd11",
   "metadata": {},
   "source": [
    "Note: edited docker-compose.yml to allow access through this port."
   ]
  },
  {
   "cell_type": "markdown",
   "id": "286af18a",
   "metadata": {},
   "source": [
    "**6. transform messages**"
   ]
  },
  {
   "cell_type": "markdown",
   "id": "73117d5b",
   "metadata": {},
   "source": [
    "6.1 consume messages from kafka into spark"
   ]
  },
  {
   "cell_type": "code",
   "execution_count": 31,
   "id": "36358200",
   "metadata": {},
   "outputs": [
    {
     "ename": "NameError",
     "evalue": "name 'spark' is not defined",
     "output_type": "error",
     "traceback": [
      "\u001b[0;31m---------------------------------------------------------------------------\u001b[0m",
      "\u001b[0;31mNameError\u001b[0m                                 Traceback (most recent call last)",
      "\u001b[0;32m/tmp/ipykernel_16318/2564806026.py\u001b[0m in \u001b[0;36m<module>\u001b[0;34m\u001b[0m\n\u001b[0;32m----> 1\u001b[0;31m \u001b[0mraw_assessments\u001b[0m \u001b[0;34m=\u001b[0m \u001b[0mspark\u001b[0m\u001b[0;34m.\u001b[0m\u001b[0mread\u001b[0m\u001b[0;34m.\u001b[0m\u001b[0mformat\u001b[0m\u001b[0;34m(\u001b[0m\u001b[0;34m\"kafka\"\u001b[0m\u001b[0;34m)\u001b[0m\u001b[0;34m.\u001b[0m\u001b[0moption\u001b[0m\u001b[0;34m(\u001b[0m\u001b[0;34m\"kafka.bootstrap.servers\"\u001b[0m\u001b[0;34m,\u001b[0m \u001b[0;34m\"kafka:29092\"\u001b[0m\u001b[0;34m)\u001b[0m\u001b[0;34m.\u001b[0m\u001b[0moption\u001b[0m\u001b[0;34m(\u001b[0m\u001b[0;34m\"subscribe\"\u001b[0m\u001b[0;34m,\u001b[0m \u001b[0;34m\"assessments\"\u001b[0m\u001b[0;34m)\u001b[0m\u001b[0;34m.\u001b[0m\u001b[0moption\u001b[0m\u001b[0;34m(\u001b[0m\u001b[0;34m\"startingOffsets\"\u001b[0m\u001b[0;34m,\u001b[0m \u001b[0;34m\"earliest\"\u001b[0m\u001b[0;34m)\u001b[0m\u001b[0;34m.\u001b[0m\u001b[0moption\u001b[0m\u001b[0;34m(\u001b[0m\u001b[0;34m\"endingOffsets\"\u001b[0m\u001b[0;34m,\u001b[0m \u001b[0;34m\"latest\"\u001b[0m\u001b[0;34m)\u001b[0m\u001b[0;34m.\u001b[0m\u001b[0mload\u001b[0m\u001b[0;34m(\u001b[0m\u001b[0;34m)\u001b[0m\u001b[0;34m\u001b[0m\u001b[0;34m\u001b[0m\u001b[0m\n\u001b[0m",
      "\u001b[0;31mNameError\u001b[0m: name 'spark' is not defined"
     ]
    }
   ],
   "source": [
    "raw_assessments = spark.read.format(\"kafka\").option(\"kafka.bootstrap.servers\", \"kafka:29092\").option(\"subscribe\", \"assessments\").option(\"startingOffsets\", \"earliest\").option(\"endingOffsets\", \"latest\").load()"
   ]
  },
  {
   "cell_type": "code",
   "execution_count": null,
   "id": "af0ec399",
   "metadata": {},
   "outputs": [],
   "source": [
    "raw_assessments.cache()"
   ]
  },
  {
   "cell_type": "markdown",
   "id": "9c7c942c",
   "metadata": {},
   "source": [
    "6.2 look at schema of kafka data import "
   ]
  },
  {
   "cell_type": "code",
   "execution_count": null,
   "id": "00e963b8",
   "metadata": {},
   "outputs": [],
   "source": [
    "raw_assessments.printSchema()"
   ]
  },
  {
   "cell_type": "markdown",
   "id": "0cbd857e",
   "metadata": {},
   "source": [
    "6.3 "
   ]
  },
  {
   "cell_type": "code",
   "execution_count": null,
   "id": "eaa189f3",
   "metadata": {},
   "outputs": [],
   "source": []
  },
  {
   "cell_type": "code",
   "execution_count": null,
   "id": "054d5b9d",
   "metadata": {},
   "outputs": [],
   "source": []
  },
  {
   "cell_type": "code",
   "execution_count": null,
   "id": "316caefd",
   "metadata": {},
   "outputs": [],
   "source": []
  },
  {
   "cell_type": "code",
   "execution_count": null,
   "id": "bd70696a",
   "metadata": {},
   "outputs": [],
   "source": []
  },
  {
   "cell_type": "code",
   "execution_count": null,
   "id": "250ebe8d",
   "metadata": {},
   "outputs": [],
   "source": []
  }
 ],
 "metadata": {
  "environment": {
   "name": "common-cpu.m79",
   "type": "gcloud",
   "uri": "gcr.io/deeplearning-platform-release/base-cpu:m79"
  },
  "kernelspec": {
   "display_name": "Python 3",
   "language": "python",
   "name": "python3"
  },
  "language_info": {
   "codemirror_mode": {
    "name": "ipython",
    "version": 3
   },
   "file_extension": ".py",
   "mimetype": "text/x-python",
   "name": "python",
   "nbconvert_exporter": "python",
   "pygments_lexer": "ipython3",
   "version": "3.7.10"
  }
 },
 "nbformat": 4,
 "nbformat_minor": 5
}
