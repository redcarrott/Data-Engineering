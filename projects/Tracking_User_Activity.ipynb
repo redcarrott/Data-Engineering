{
 "cells": [
  {
   "cell_type": "markdown",
   "id": "fd94285f",
   "metadata": {},
   "source": [
    "# Project 2: Tracking User Activity"
   ]
  },
  {
   "cell_type": "markdown",
   "id": "c6b84e50",
   "metadata": {},
   "source": [
    "This notebook serves as a step-by-step tuide to build the pipeline, consume messages in Spark, and run transformations to land assessments data so that it could be queried by clients."
   ]
  },
  {
   "cell_type": "markdown",
   "id": "eec0f51a",
   "metadata": {},
   "source": [
    "### JSON file"
   ]
  },
  {
   "cell_type": "markdown",
   "id": "beb4ec53",
   "metadata": {},
   "source": [
    "**1. access the data by using curl and explore the data structure**"
   ]
  },
  {
   "cell_type": "code",
   "execution_count": 2,
   "id": "d348d952",
   "metadata": {},
   "outputs": [
    {
     "name": "stdout",
     "output_type": "stream",
     "text": [
      "  % Total    % Received % Xferd  Average Speed   Time    Time     Time  Current\n",
      "                                 Dload  Upload   Total   Spent    Left  Speed\n",
      "  0     0    0     0    0     0      0      0 --:--:-- --:--:-- --:--:--     0\n",
      "100 9096k  100 9096k    0     0  20.2M      0 --:--:-- --:--:-- --:--:-- 63.2M\n"
     ]
    }
   ],
   "source": [
    "!curl -L -o assessment-attempts-20180128-121051-nested.json https://goo.gl/ME6hjp"
   ]
  },
  {
   "cell_type": "code",
   "execution_count": 3,
   "id": "6019e834",
   "metadata": {},
   "outputs": [
    {
     "name": "stdout",
     "output_type": "stream",
     "text": [
      "\u001b[1;39m{\n",
      "  \u001b[0m\u001b[34;1m\"keen_timestamp\"\u001b[0m\u001b[1;39m: \u001b[0m\u001b[0;32m\"1516717442.735266\"\u001b[0m\u001b[1;39m,\n",
      "  \u001b[0m\u001b[34;1m\"max_attempts\"\u001b[0m\u001b[1;39m: \u001b[0m\u001b[0;32m\"1.0\"\u001b[0m\u001b[1;39m,\n",
      "  \u001b[0m\u001b[34;1m\"started_at\"\u001b[0m\u001b[1;39m: \u001b[0m\u001b[0;32m\"2018-01-23T14:23:19.082Z\"\u001b[0m\u001b[1;39m,\n",
      "  \u001b[0m\u001b[34;1m\"base_exam_id\"\u001b[0m\u001b[1;39m: \u001b[0m\u001b[0;32m\"37f0a30a-7464-11e6-aa92-a8667f27e5dc\"\u001b[0m\u001b[1;39m,\n",
      "  \u001b[0m\u001b[34;1m\"user_exam_id\"\u001b[0m\u001b[1;39m: \u001b[0m\u001b[0;32m\"6d4089e4-bde5-4a22-b65f-18bce9ab79c8\"\u001b[0m\u001b[1;39m,\n",
      "  \u001b[0m\u001b[34;1m\"sequences\"\u001b[0m\u001b[1;39m: \u001b[0m\u001b[1;39m{\n",
      "    \u001b[0m\u001b[34;1m\"questions\"\u001b[0m\u001b[1;39m: \u001b[0m\u001b[1;39m[\n",
      "      \u001b[1;39m{\n",
      "        \u001b[0m\u001b[34;1m\"user_incomplete\"\u001b[0m\u001b[1;39m: \u001b[0m\u001b[0;39mtrue\u001b[0m\u001b[1;39m,\n",
      "        \u001b[0m\u001b[34;1m\"user_correct\"\u001b[0m\u001b[1;39m: \u001b[0m\u001b[0;39mfalse\u001b[0m\u001b[1;39m,\n",
      "        \u001b[0m\u001b[34;1m\"options\"\u001b[0m\u001b[1;39m: \u001b[0m\u001b[1;39m[\n",
      "          \u001b[1;39m{\n",
      "            \u001b[0m\u001b[34;1m\"checked\"\u001b[0m\u001b[1;39m: \u001b[0m\u001b[0;39mtrue\u001b[0m\u001b[1;39m,\n",
      "            \u001b[0m\u001b[34;1m\"at\"\u001b[0m\u001b[1;39m: \u001b[0m\u001b[0;32m\"2018-01-23T14:23:24.670Z\"\u001b[0m\u001b[1;39m,\n",
      "            \u001b[0m\u001b[34;1m\"id\"\u001b[0m\u001b[1;39m: \u001b[0m\u001b[0;32m\"49c574b4-5c82-4ffd-9bd1-c3358faf850d\"\u001b[0m\u001b[1;39m,\n",
      "            \u001b[0m\u001b[34;1m\"submitted\"\u001b[0m\u001b[1;39m: \u001b[0m\u001b[0;39m1\u001b[0m\u001b[1;39m,\n",
      "            \u001b[0m\u001b[34;1m\"correct\"\u001b[0m\u001b[1;39m: \u001b[0m\u001b[0;39mtrue\u001b[0m\u001b[1;39m\n",
      "          \u001b[1;39m}\u001b[0m\u001b[1;39m,\n",
      "          \u001b[1;39m{\n",
      "            \u001b[0m\u001b[34;1m\"checked\"\u001b[0m\u001b[1;39m: \u001b[0m\u001b[0;39mtrue\u001b[0m\u001b[1;39m,\n",
      "            \u001b[0m\u001b[34;1m\"at\"\u001b[0m\u001b[1;39m: \u001b[0m\u001b[0;32m\"2018-01-23T14:23:25.914Z\"\u001b[0m\u001b[1;39m,\n",
      "            \u001b[0m\u001b[34;1m\"id\"\u001b[0m\u001b[1;39m: \u001b[0m\u001b[0;32m\"f2528210-35c3-4320-acf3-9056567ea19f\"\u001b[0m\u001b[1;39m,\n",
      "            \u001b[0m\u001b[34;1m\"submitted\"\u001b[0m\u001b[1;39m: \u001b[0m\u001b[0;39m1\u001b[0m\u001b[1;39m,\n",
      "            \u001b[0m\u001b[34;1m\"correct\"\u001b[0m\u001b[1;39m: \u001b[0m\u001b[0;39mtrue\u001b[0m\u001b[1;39m\n",
      "          \u001b[1;39m}\u001b[0m\u001b[1;39m,\n",
      "          \u001b[1;39m{\n",
      "            \u001b[0m\u001b[34;1m\"checked\"\u001b[0m\u001b[1;39m: \u001b[0m\u001b[0;39mfalse\u001b[0m\u001b[1;39m,\n",
      "            \u001b[0m\u001b[34;1m\"correct\"\u001b[0m\u001b[1;39m: \u001b[0m\u001b[0;39mtrue\u001b[0m\u001b[1;39m,\n",
      "            \u001b[0m\u001b[34;1m\"id\"\u001b[0m\u001b[1;39m: \u001b[0m\u001b[0;32m\"d1bf026f-554f-4543-bdd2-54dcf105b826\"\u001b[0m\u001b[1;39m\n",
      "          \u001b[1;39m}\u001b[0m\u001b[1;39m\n",
      "        \u001b[1;39m]\u001b[0m\u001b[1;39m,\n",
      "        \u001b[0m\u001b[34;1m\"user_submitted\"\u001b[0m\u001b[1;39m: \u001b[0m\u001b[0;39mtrue\u001b[0m\u001b[1;39m,\n",
      "        \u001b[0m\u001b[34;1m\"id\"\u001b[0m\u001b[1;39m: \u001b[0m\u001b[0;32m\"7a2ed6d3-f492-49b3-b8aa-d080a8aad986\"\u001b[0m\u001b[1;39m,\n",
      "        \u001b[0m\u001b[34;1m\"user_result\"\u001b[0m\u001b[1;39m: \u001b[0m\u001b[0;32m\"missed_some\"\u001b[0m\u001b[1;39m\n",
      "      \u001b[1;39m}\u001b[0m\u001b[1;39m,\n",
      "      \u001b[1;39m{\n",
      "        \u001b[0m\u001b[34;1m\"user_incomplete\"\u001b[0m\u001b[1;39m: \u001b[0m\u001b[0;39mfalse\u001b[0m\u001b[1;39m,\n",
      "        \u001b[0m\u001b[34;1m\"user_correct\"\u001b[0m\u001b[1;39m: \u001b[0m\u001b[0;39mfalse\u001b[0m\u001b[1;39m,\n",
      "        \u001b[0m\u001b[34;1m\"options\"\u001b[0m\u001b[1;39m: \u001b[0m\u001b[1;39m[\n",
      "          \u001b[1;39m{\n",
      "            \u001b[0m\u001b[34;1m\"checked\"\u001b[0m\u001b[1;39m: \u001b[0m\u001b[0;39mtrue\u001b[0m\u001b[1;39m,\n",
      "            \u001b[0m\u001b[34;1m\"at\"\u001b[0m\u001b[1;39m: \u001b[0m\u001b[0;32m\"2018-01-23T14:23:30.116Z\"\u001b[0m\u001b[1;39m,\n",
      "            \u001b[0m\u001b[34;1m\"id\"\u001b[0m\u001b[1;39m: \u001b[0m\u001b[0;32m\"a35d0e80-8c49-415d-b8cb-c21a02627e2b\"\u001b[0m\u001b[1;39m,\n",
      "            \u001b[0m\u001b[34;1m\"submitted\"\u001b[0m\u001b[1;39m: \u001b[0m\u001b[0;39m1\u001b[0m\u001b[1;39m\n",
      "          \u001b[1;39m}\u001b[0m\u001b[1;39m,\n",
      "          \u001b[1;39m{\n",
      "            \u001b[0m\u001b[34;1m\"checked\"\u001b[0m\u001b[1;39m: \u001b[0m\u001b[0;39mfalse\u001b[0m\u001b[1;39m,\n",
      "            \u001b[0m\u001b[34;1m\"correct\"\u001b[0m\u001b[1;39m: \u001b[0m\u001b[0;39mtrue\u001b[0m\u001b[1;39m,\n",
      "            \u001b[0m\u001b[34;1m\"id\"\u001b[0m\u001b[1;39m: \u001b[0m\u001b[0;32m\"bccd6e2e-2cef-4c72-8bfa-317db0ac48bb\"\u001b[0m\u001b[1;39m\n",
      "          \u001b[1;39m}\u001b[0m\u001b[1;39m,\n",
      "          \u001b[1;39m{\n",
      "            \u001b[0m\u001b[34;1m\"checked\"\u001b[0m\u001b[1;39m: \u001b[0m\u001b[0;39mtrue\u001b[0m\u001b[1;39m,\n",
      "            \u001b[0m\u001b[34;1m\"at\"\u001b[0m\u001b[1;39m: \u001b[0m\u001b[0;32m\"2018-01-23T14:23:41.791Z\"\u001b[0m\u001b[1;39m,\n",
      "            \u001b[0m\u001b[34;1m\"id\"\u001b[0m\u001b[1;39m: \u001b[0m\u001b[0;32m\"7e0b639a-2ef8-4604-b7eb-5018bd81a91b\"\u001b[0m\u001b[1;39m,\n",
      "            \u001b[0m\u001b[34;1m\"submitted\"\u001b[0m\u001b[1;39m: \u001b[0m\u001b[0;39m1\u001b[0m\u001b[1;39m,\n",
      "            \u001b[0m\u001b[34;1m\"correct\"\u001b[0m\u001b[1;39m: \u001b[0m\u001b[0;39mtrue\u001b[0m\u001b[1;39m\n",
      "          \u001b[1;39m}\u001b[0m\u001b[1;39m\n",
      "        \u001b[1;39m]\u001b[0m\u001b[1;39m,\n",
      "        \u001b[0m\u001b[34;1m\"user_submitted\"\u001b[0m\u001b[1;39m: \u001b[0m\u001b[0;39mtrue\u001b[0m\u001b[1;39m,\n",
      "        \u001b[0m\u001b[34;1m\"id\"\u001b[0m\u001b[1;39m: \u001b[0m\u001b[0;32m\"bbed4358-999d-4462-9596-bad5173a6ecb\"\u001b[0m\u001b[1;39m,\n",
      "        \u001b[0m\u001b[34;1m\"user_result\"\u001b[0m\u001b[1;39m: \u001b[0m\u001b[0;32m\"incorrect\"\u001b[0m\u001b[1;39m\n",
      "      \u001b[1;39m}\u001b[0m\u001b[1;39m,\n",
      "      \u001b[1;39m{\n",
      "        \u001b[0m\u001b[34;1m\"user_incomplete\"\u001b[0m\u001b[1;39m: \u001b[0m\u001b[0;39mfalse\u001b[0m\u001b[1;39m,\n",
      "        \u001b[0m\u001b[34;1m\"user_correct\"\u001b[0m\u001b[1;39m: \u001b[0m\u001b[0;39mtrue\u001b[0m\u001b[1;39m,\n",
      "        \u001b[0m\u001b[34;1m\"options\"\u001b[0m\u001b[1;39m: \u001b[0m\u001b[1;39m[\n",
      "          \u001b[1;39m{\n",
      "            \u001b[0m\u001b[34;1m\"checked\"\u001b[0m\u001b[1;39m: \u001b[0m\u001b[0;39mfalse\u001b[0m\u001b[1;39m,\n",
      "            \u001b[0m\u001b[34;1m\"at\"\u001b[0m\u001b[1;39m: \u001b[0m\u001b[0;32m\"2018-01-23T14:23:52.510Z\"\u001b[0m\u001b[1;39m,\n",
      "            \u001b[0m\u001b[34;1m\"id\"\u001b[0m\u001b[1;39m: \u001b[0m\u001b[0;32m\"a9333679-de9d-41ff-bb3d-b239d6b95732\"\u001b[0m\u001b[1;39m\n",
      "          \u001b[1;39m}\u001b[0m\u001b[1;39m,\n",
      "          \u001b[1;39m{\n",
      "            \u001b[0m\u001b[34;1m\"checked\"\u001b[0m\u001b[1;39m: \u001b[0m\u001b[0;39mfalse\u001b[0m\u001b[1;39m,\n",
      "            \u001b[0m\u001b[34;1m\"id\"\u001b[0m\u001b[1;39m: \u001b[0m\u001b[0;32m\"85795acc-b4b1-4510-bd6e-41648a3553c9\"\u001b[0m\u001b[1;39m\n",
      "          \u001b[1;39m}\u001b[0m\u001b[1;39m,\n",
      "          \u001b[1;39m{\n",
      "            \u001b[0m\u001b[34;1m\"checked\"\u001b[0m\u001b[1;39m: \u001b[0m\u001b[0;39mtrue\u001b[0m\u001b[1;39m,\n",
      "            \u001b[0m\u001b[34;1m\"at\"\u001b[0m\u001b[1;39m: \u001b[0m\u001b[0;32m\"2018-01-23T14:23:54.223Z\"\u001b[0m\u001b[1;39m,\n",
      "            \u001b[0m\u001b[34;1m\"id\"\u001b[0m\u001b[1;39m: \u001b[0m\u001b[0;32m\"c185ecdb-48fb-4edb-ae4e-0204ac7a0909\"\u001b[0m\u001b[1;39m,\n",
      "            \u001b[0m\u001b[34;1m\"submitted\"\u001b[0m\u001b[1;39m: \u001b[0m\u001b[0;39m1\u001b[0m\u001b[1;39m,\n",
      "            \u001b[0m\u001b[34;1m\"correct\"\u001b[0m\u001b[1;39m: \u001b[0m\u001b[0;39mtrue\u001b[0m\u001b[1;39m\n",
      "          \u001b[1;39m}\u001b[0m\u001b[1;39m,\n",
      "          \u001b[1;39m{\n",
      "            \u001b[0m\u001b[34;1m\"checked\"\u001b[0m\u001b[1;39m: \u001b[0m\u001b[0;39mtrue\u001b[0m\u001b[1;39m,\n",
      "            \u001b[0m\u001b[34;1m\"at\"\u001b[0m\u001b[1;39m: \u001b[0m\u001b[0;32m\"2018-01-23T14:23:53.862Z\"\u001b[0m\u001b[1;39m,\n",
      "            \u001b[0m\u001b[34;1m\"id\"\u001b[0m\u001b[1;39m: \u001b[0m\u001b[0;32m\"77a66c83-d001-45cd-9a5a-6bba8eb7389e\"\u001b[0m\u001b[1;39m,\n",
      "            \u001b[0m\u001b[34;1m\"submitted\"\u001b[0m\u001b[1;39m: \u001b[0m\u001b[0;39m1\u001b[0m\u001b[1;39m,\n",
      "            \u001b[0m\u001b[34;1m\"correct\"\u001b[0m\u001b[1;39m: \u001b[0m\u001b[0;39mtrue\u001b[0m\u001b[1;39m\n",
      "          \u001b[1;39m}\u001b[0m\u001b[1;39m\n",
      "        \u001b[1;39m]\u001b[0m\u001b[1;39m,\n",
      "        \u001b[0m\u001b[34;1m\"user_submitted\"\u001b[0m\u001b[1;39m: \u001b[0m\u001b[0;39mtrue\u001b[0m\u001b[1;39m,\n",
      "        \u001b[0m\u001b[34;1m\"id\"\u001b[0m\u001b[1;39m: \u001b[0m\u001b[0;32m\"e6ad8644-96b1-4617-b37b-a263dded202c\"\u001b[0m\u001b[1;39m,\n",
      "        \u001b[0m\u001b[34;1m\"user_result\"\u001b[0m\u001b[1;39m: \u001b[0m\u001b[0;32m\"correct\"\u001b[0m\u001b[1;39m\n",
      "      \u001b[1;39m}\u001b[0m\u001b[1;39m,\n",
      "      \u001b[1;39m{\n",
      "        \u001b[0m\u001b[34;1m\"user_incomplete\"\u001b[0m\u001b[1;39m: \u001b[0m\u001b[0;39mfalse\u001b[0m\u001b[1;39m,\n",
      "        \u001b[0m\u001b[34;1m\"user_correct\"\u001b[0m\u001b[1;39m: \u001b[0m\u001b[0;39mtrue\u001b[0m\u001b[1;39m,\n",
      "        \u001b[0m\u001b[34;1m\"options\"\u001b[0m\u001b[1;39m: \u001b[0m\u001b[1;39m[\n",
      "          \u001b[1;39m{\n",
      "            \u001b[0m\u001b[34;1m\"checked\"\u001b[0m\u001b[1;39m: \u001b[0m\u001b[0;39mfalse\u001b[0m\u001b[1;39m,\n",
      "            \u001b[0m\u001b[34;1m\"id\"\u001b[0m\u001b[1;39m: \u001b[0m\u001b[0;32m\"59b9fc4b-f239-4850-b1f9-912d1fd3ca13\"\u001b[0m\u001b[1;39m\n",
      "          \u001b[1;39m}\u001b[0m\u001b[1;39m,\n",
      "          \u001b[1;39m{\n",
      "            \u001b[0m\u001b[34;1m\"checked\"\u001b[0m\u001b[1;39m: \u001b[0m\u001b[0;39mfalse\u001b[0m\u001b[1;39m,\n",
      "            \u001b[0m\u001b[34;1m\"id\"\u001b[0m\u001b[1;39m: \u001b[0m\u001b[0;32m\"2c29e8e8-d4a8-406e-9cdf-de28ec5890fe\"\u001b[0m\u001b[1;39m\n",
      "          \u001b[1;39m}\u001b[0m\u001b[1;39m,\n",
      "          \u001b[1;39m{\n",
      "            \u001b[0m\u001b[34;1m\"checked\"\u001b[0m\u001b[1;39m: \u001b[0m\u001b[0;39mfalse\u001b[0m\u001b[1;39m,\n",
      "            \u001b[0m\u001b[34;1m\"id\"\u001b[0m\u001b[1;39m: \u001b[0m\u001b[0;32m\"62feee6e-9b76-4123-bd9e-c0b35126b1f1\"\u001b[0m\u001b[1;39m\n",
      "          \u001b[1;39m}\u001b[0m\u001b[1;39m,\n",
      "          \u001b[1;39m{\n",
      "            \u001b[0m\u001b[34;1m\"checked\"\u001b[0m\u001b[1;39m: \u001b[0m\u001b[0;39mtrue\u001b[0m\u001b[1;39m,\n",
      "            \u001b[0m\u001b[34;1m\"at\"\u001b[0m\u001b[1;39m: \u001b[0m\u001b[0;32m\"2018-01-23T14:24:00.807Z\"\u001b[0m\u001b[1;39m,\n",
      "            \u001b[0m\u001b[34;1m\"id\"\u001b[0m\u001b[1;39m: \u001b[0m\u001b[0;32m\"7f13df9c-fcbe-4424-914f-2206f106765c\"\u001b[0m\u001b[1;39m,\n",
      "            \u001b[0m\u001b[34;1m\"submitted\"\u001b[0m\u001b[1;39m: \u001b[0m\u001b[0;39m1\u001b[0m\u001b[1;39m,\n",
      "            \u001b[0m\u001b[34;1m\"correct\"\u001b[0m\u001b[1;39m: \u001b[0m\u001b[0;39mtrue\u001b[0m\u001b[1;39m\n",
      "          \u001b[1;39m}\u001b[0m\u001b[1;39m\n",
      "        \u001b[1;39m]\u001b[0m\u001b[1;39m,\n",
      "        \u001b[0m\u001b[34;1m\"user_submitted\"\u001b[0m\u001b[1;39m: \u001b[0m\u001b[0;39mtrue\u001b[0m\u001b[1;39m,\n",
      "        \u001b[0m\u001b[34;1m\"id\"\u001b[0m\u001b[1;39m: \u001b[0m\u001b[0;32m\"95194331-ac43-454e-83de-ea8913067055\"\u001b[0m\u001b[1;39m,\n",
      "        \u001b[0m\u001b[34;1m\"user_result\"\u001b[0m\u001b[1;39m: \u001b[0m\u001b[0;32m\"correct\"\u001b[0m\u001b[1;39m\n",
      "      \u001b[1;39m}\u001b[0m\u001b[1;39m\n",
      "    \u001b[1;39m]\u001b[0m\u001b[1;39m,\n",
      "    \u001b[0m\u001b[34;1m\"attempt\"\u001b[0m\u001b[1;39m: \u001b[0m\u001b[0;39m1\u001b[0m\u001b[1;39m,\n",
      "    \u001b[0m\u001b[34;1m\"id\"\u001b[0m\u001b[1;39m: \u001b[0m\u001b[0;32m\"5b28a462-7a3b-42e0-b508-09f3906d1703\"\u001b[0m\u001b[1;39m,\n",
      "    \u001b[0m\u001b[34;1m\"counts\"\u001b[0m\u001b[1;39m: \u001b[0m\u001b[1;39m{\n",
      "      \u001b[0m\u001b[34;1m\"incomplete\"\u001b[0m\u001b[1;39m: \u001b[0m\u001b[0;39m1\u001b[0m\u001b[1;39m,\n",
      "      \u001b[0m\u001b[34;1m\"submitted\"\u001b[0m\u001b[1;39m: \u001b[0m\u001b[0;39m4\u001b[0m\u001b[1;39m,\n",
      "      \u001b[0m\u001b[34;1m\"incorrect\"\u001b[0m\u001b[1;39m: \u001b[0m\u001b[0;39m1\u001b[0m\u001b[1;39m,\n",
      "      \u001b[0m\u001b[34;1m\"all_correct\"\u001b[0m\u001b[1;39m: \u001b[0m\u001b[0;39mfalse\u001b[0m\u001b[1;39m,\n",
      "      \u001b[0m\u001b[34;1m\"correct\"\u001b[0m\u001b[1;39m: \u001b[0m\u001b[0;39m2\u001b[0m\u001b[1;39m,\n",
      "      \u001b[0m\u001b[34;1m\"total\"\u001b[0m\u001b[1;39m: \u001b[0m\u001b[0;39m4\u001b[0m\u001b[1;39m,\n",
      "      \u001b[0m\u001b[34;1m\"unanswered\"\u001b[0m\u001b[1;39m: \u001b[0m\u001b[0;39m0\u001b[0m\u001b[1;39m\n",
      "    \u001b[1;39m}\u001b[0m\u001b[1;39m\n",
      "  \u001b[1;39m}\u001b[0m\u001b[1;39m,\n",
      "  \u001b[0m\u001b[34;1m\"keen_created_at\"\u001b[0m\u001b[1;39m: \u001b[0m\u001b[0;32m\"1516717442.735266\"\u001b[0m\u001b[1;39m,\n",
      "  \u001b[0m\u001b[34;1m\"certification\"\u001b[0m\u001b[1;39m: \u001b[0m\u001b[0;32m\"false\"\u001b[0m\u001b[1;39m,\n",
      "  \u001b[0m\u001b[34;1m\"keen_id\"\u001b[0m\u001b[1;39m: \u001b[0m\u001b[0;32m\"5a6745820eb8ab00016be1f1\"\u001b[0m\u001b[1;39m,\n",
      "  \u001b[0m\u001b[34;1m\"exam_name\"\u001b[0m\u001b[1;39m: \u001b[0m\u001b[0;32m\"Normal Forms and All That Jazz Master Class\"\u001b[0m\u001b[1;39m\n",
      "\u001b[1;39m}\u001b[0m\n"
     ]
    }
   ],
   "source": [
    "!cat assessment-attempts-20180128-121051-nested.json | jq '.[0]'"
   ]
  },
  {
   "cell_type": "markdown",
   "id": "2cd966aa",
   "metadata": {},
   "source": [
    "### Kafka: publish and consume messages"
   ]
  },
  {
   "cell_type": "markdown",
   "id": "13741dea",
   "metadata": {},
   "source": [
    "**2. spin up cluster using docker-compose (extra step: check the containers with ps)**"
   ]
  },
  {
   "cell_type": "code",
   "execution_count": 13,
   "id": "5c95e735",
   "metadata": {},
   "outputs": [
    {
     "name": "stdout",
     "output_type": "stream",
     "text": [
      "Creating network \"project-2-redcarrott_default\" with the default driver\n",
      "Creating project-2-redcarrott_zookeeper_1 ... \n",
      "Creating project-2-redcarrott_mids_1      ... \n",
      "Creating project-2-redcarrott_cloudera_1  ... \n",
      "\u001b[3BCreating project-2-redcarrott_kafka_1     ... mdone\u001b[0m\u001b[3A\u001b[2K\n",
      "\u001b[2BCreating project-2-redcarrott_spark_1     ... mdone\u001b[0m\n",
      "\u001b[1Bting project-2-redcarrott_spark_1     ... \u001b[32mdone\u001b[0m\u001b[1A\u001b[2K"
     ]
    }
   ],
   "source": [
    "!docker-compose up -d"
   ]
  },
  {
   "cell_type": "code",
   "execution_count": 14,
   "id": "6018ef63",
   "metadata": {},
   "outputs": [
    {
     "name": "stdout",
     "output_type": "stream",
     "text": [
      "         Name                   Command           State           Ports         \n",
      "--------------------------------------------------------------------------------\n",
      "project-2-redcarrott_c   cdh_startup_script.sh    Up      11000/tcp, 11443/tcp, \n",
      "loudera_1                                                 19888/tcp, 50070/tcp, \n",
      "                                                          8020/tcp, 8088/tcp,   \n",
      "                                                          8888/tcp, 9090/tcp    \n",
      "project-2-redcarrott_k   /etc/confluent/docker/   Up      29092/tcp, 9092/tcp   \n",
      "afka_1                   run                                                    \n",
      "project-2-redcarrott_m   /bin/bash                Up      8888/tcp              \n",
      "ids_1                                                                           \n",
      "project-2-redcarrott_s   docker-entrypoint.sh     Up      0.0.0.0:8888->8888/tcp\n",
      "park_1                   bash                             ,:::8888->8888/tcp    \n",
      "project-2-redcarrott_z   /etc/confluent/docker/   Up      2181/tcp, 2888/tcp,   \n",
      "ookeeper_1               run                              32181/tcp, 3888/tcp   \n"
     ]
    }
   ],
   "source": [
    "!docker-compose ps"
   ]
  },
  {
   "cell_type": "markdown",
   "id": "a2e9389c",
   "metadata": {},
   "source": [
    "**3. create assessments topic + check that the topic has been properly created**"
   ]
  },
  {
   "cell_type": "code",
   "execution_count": 17,
   "id": "95df442d",
   "metadata": {},
   "outputs": [
    {
     "name": "stdout",
     "output_type": "stream",
     "text": [
      "Created topic assessments.\n"
     ]
    }
   ],
   "source": [
    "!docker-compose exec kafka kafka-topics --create --topic assessments --partitions 1 --replication-factor 1 --if-not-exists --zookeeper zookeeper:32181"
   ]
  },
  {
   "cell_type": "code",
   "execution_count": 18,
   "id": "3c5e8911",
   "metadata": {},
   "outputs": [
    {
     "name": "stdout",
     "output_type": "stream",
     "text": [
      "Topic: assessments\tTopicId: z5m2o9BFQMGuofP_CULjyw\tPartitionCount: 1\tReplicationFactor: 1\tConfigs: \n",
      "\tTopic: assessments\tPartition: 0\tLeader: 1\tReplicas: 1\tIsr: 1\n"
     ]
    }
   ],
   "source": [
    "!docker-compose exec kafka kafka-topics --describe --topic assessments --zookeeper zookeeper:32181"
   ]
  },
  {
   "cell_type": "markdown",
   "id": "41a5acad",
   "metadata": {},
   "source": [
    "**4. publish messages to the assessments topic**"
   ]
  },
  {
   "cell_type": "code",
   "execution_count": 19,
   "id": "f53b41fb",
   "metadata": {},
   "outputs": [],
   "source": [
    "!docker-compose exec mids bash -c \"cat /w205/project-2-redcarrott/assessment-attempts-20180128-121051-nested.json | jq '.[]' -c | kafkacat -P -b kafka:29092 -t assessments\""
   ]
  },
  {
   "cell_type": "code",
   "execution_count": 20,
   "id": "d21513c3",
   "metadata": {},
   "outputs": [
    {
     "name": "stdout",
     "output_type": "stream",
     "text": [
      "annot_fpid.json  lp_data.csv\t       redis-standalone\n",
      "course-content\t project-2-redcarrott  spark-with-kafka\n",
      "kafka\t\t redis-cluster\t       spark-with-kafka-and-hdfs\n"
     ]
    }
   ],
   "source": [
    "! docker-compose exec mids bash -c \"ls /w205/\""
   ]
  },
  {
   "cell_type": "markdown",
   "id": "8e139941",
   "metadata": {},
   "source": [
    "### Spark"
   ]
  },
  {
   "cell_type": "markdown",
   "id": "52480f87",
   "metadata": {},
   "source": [
    "**5. launch Spark session in Jupyter notebook**"
   ]
  },
  {
   "cell_type": "code",
   "execution_count": 22,
   "id": "1565479b",
   "metadata": {},
   "outputs": [
    {
     "name": "stdout",
     "output_type": "stream",
     "text": [
      "Python 3.6.1 |Anaconda 4.4.0 (64-bit)| (default, May 11 2017, 13:09:58) \n",
      "[GCC 4.4.7 20120313 (Red Hat 4.4.7-1)] on linux\n",
      "Type \"help\", \"copyright\", \"credits\" or \"license\" for more information.\n",
      "Using Spark's default log4j profile: org/apache/spark/log4j-defaults.properties\n",
      "Setting default log level to \"WARN\".\n",
      "To adjust logging level use sc.setLogLevel(newLevel). For SparkR, use setLogLevel(newLevel).\n",
      "21/11/04 22:02:52 WARN NativeCodeLoader: Unable to load native-hadoop library for your platform... using builtin-java classes where applicable\n",
      "21/11/04 22:03:05 WARN ObjectStore: Version information not found in metastore. hive.metastore.schema.verification is not enabled so recording the schema version 1.2.0\n",
      "21/11/04 22:03:06 WARN ObjectStore: Failed to get database default, returning NoSuchObjectException\n",
      "21/11/04 22:03:08 WARN ObjectStore: Failed to get database global_temp, returning NoSuchObjectException\n",
      "Welcome to\n",
      "      ____              __\n",
      "     / __/__  ___ _____/ /__\n",
      "    _\\ \\/ _ \\/ _ `/ __/  '_/\n",
      "   /__ / .__/\\_,_/_/ /_/\\_\\   version 2.2.0\n",
      "      /_/\n",
      "\n",
      "Using Python version 3.6.1 (default, May 11 2017 13:09:58)\n",
      "SparkSession available as 'spark'.\n",
      ">>> \n",
      "Traceback (most recent call last):\n",
      "  File \"<stdin>\", line 1, in <module>\n",
      "  File \"/spark-2.2.0-bin-hadoop2.6/python/pyspark/context.py\", line 237, in signal_handler\n",
      "    raise KeyboardInterrupt()\n",
      "KeyboardInterrupt\n",
      ">>> "
     ]
    }
   ],
   "source": [
    "!docker-compose exec spark pyspark"
   ]
  },
  {
   "cell_type": "markdown",
   "id": "13f4874b",
   "metadata": {},
   "source": [
    "**6. transform messages**"
   ]
  },
  {
   "cell_type": "markdown",
   "id": "40e5c920",
   "metadata": {},
   "source": [
    "6.1 consume messages from kafka into spark"
   ]
  },
  {
   "cell_type": "code",
   "execution_count": null,
   "id": "e6d9f606",
   "metadata": {},
   "outputs": [],
   "source": [
    "data = spark.read.format(\"kafka\").option(\"kafka.bootstrap.servers\", \"kafka:29092\").option(\"subscribe\", \"assessments\").option(\"startingOffsets\", \"earliest\").option(\"endingOffsets\", \"latest\").load()"
   ]
  },
  {
   "cell_type": "code",
   "execution_count": null,
   "id": "c612335e",
   "metadata": {},
   "outputs": [],
   "source": [
    "data.cache()"
   ]
  },
  {
   "cell_type": "markdown",
   "id": "6f30b8a9",
   "metadata": {},
   "source": [
    "*cache to cut back on warnings"
   ]
  },
  {
   "cell_type": "markdown",
   "id": "4b911a5b",
   "metadata": {},
   "source": [
    "6.2 look at schema of kafka data import "
   ]
  },
  {
   "cell_type": "code",
   "execution_count": null,
   "id": "02dcd425",
   "metadata": {},
   "outputs": [],
   "source": [
    "data.printSchema()"
   ]
  },
  {
   "cell_type": "markdown",
   "id": "f394c95b",
   "metadata": {},
   "source": [
    "6.3 explore the raw_assessments data structure"
   ]
  },
  {
   "cell_type": "code",
   "execution_count": null,
   "id": "f2ec16d0",
   "metadata": {},
   "outputs": [],
   "source": [
    "data.show()"
   ]
  },
  {
   "cell_type": "markdown",
   "id": "89ebe10a",
   "metadata": {},
   "source": [
    "6.4 select *value* and cast it as string"
   ]
  },
  {
   "cell_type": "code",
   "execution_count": null,
   "id": "c360b045",
   "metadata": {},
   "outputs": [],
   "source": [
    "exam_data = data.select(data.value.cast('string'))"
   ]
  },
  {
   "cell_type": "markdown",
   "id": "08dcdc8f",
   "metadata": {},
   "source": [
    "6.5 explore the *assessments* data structure"
   ]
  },
  {
   "cell_type": "code",
   "execution_count": null,
   "id": "769e8212",
   "metadata": {},
   "outputs": [],
   "source": [
    "exam_data.show()"
   ]
  },
  {
   "cell_type": "markdown",
   "id": "ffacb0e1",
   "metadata": {},
   "source": [
    "6.6 see what the first line of the table looks like:"
   ]
  },
  {
   "cell_type": "code",
   "execution_count": null,
   "id": "0b52f417",
   "metadata": {},
   "outputs": [],
   "source": [
    "exam_data.collect()[0]"
   ]
  },
  {
   "cell_type": "markdown",
   "id": "4adb03b7",
   "metadata": {},
   "source": [
    "**7. convert json to dataframe**"
   ]
  },
  {
   "cell_type": "code",
   "execution_count": null,
   "id": "b65e491c",
   "metadata": {},
   "outputs": [],
   "source": [
    "import json\n",
    "import warnings\n",
    "warnings.filterwarnings(\"ignore\")"
   ]
  },
  {
   "cell_type": "markdown",
   "id": "7709676f",
   "metadata": {},
   "source": [
    "7.1 each row is a dictionary, so load dictionary using json package and conver to datarame"
   ]
  },
  {
   "cell_type": "code",
   "execution_count": null,
   "id": "5fd94209",
   "metadata": {},
   "outputs": [],
   "source": [
    "exam = exam_data.rdd.map(lambda x: json.loads(x.value)).toDF()"
   ]
  },
  {
   "cell_type": "code",
   "execution_count": null,
   "id": "a2d06232",
   "metadata": {},
   "outputs": [],
   "source": [
    "exam.printSchema()"
   ]
  },
  {
   "cell_type": "markdown",
   "id": "f94edf9e",
   "metadata": {},
   "source": [
    "7.2 after looking at the schema of the new dataframe, we see that the \"sequences\" column contains keys and values while other only have values. "
   ]
  },
  {
   "cell_type": "code",
   "execution_count": null,
   "id": "7b082444",
   "metadata": {},
   "outputs": [],
   "source": [
    "exam.select('sequences').collect()[87]"
   ]
  },
  {
   "cell_type": "markdown",
   "id": "534159b8",
   "metadata": {},
   "source": [
    "7.3 after looking at exames of what \"sequence\" contains, we see missing values. Since, data is not complete in this column, we decide to drop. "
   ]
  },
  {
   "cell_type": "code",
   "execution_count": null,
   "id": "1b175562",
   "metadata": {},
   "outputs": [],
   "source": [
    "exam = exam.drop('sequences')"
   ]
  },
  {
   "cell_type": "code",
   "execution_count": null,
   "id": "2e40c113",
   "metadata": {},
   "outputs": [],
   "source": [
    "exam.printSchema()"
   ]
  },
  {
   "cell_type": "markdown",
   "id": "e0ee8220",
   "metadata": {},
   "source": [
    "**8. land table to HDFS**"
   ]
  },
  {
   "cell_type": "markdown",
   "id": "5fa7a868",
   "metadata": {},
   "source": [
    "8.1 Now that the table is structured, move cloudera HDFS. "
   ]
  },
  {
   "cell_type": "code",
   "execution_count": null,
   "id": "80b55ae4",
   "metadata": {},
   "outputs": [],
   "source": [
    "exam.write.parquet(\"/tmp/exam\")"
   ]
  },
  {
   "cell_type": "markdown",
   "id": "f0095cc0",
   "metadata": {},
   "source": [
    "8.2 register temporary view of table so that spark SQL queries can be used to answer our business questions. "
   ]
  },
  {
   "cell_type": "code",
   "execution_count": null,
   "id": "b3bb7a73",
   "metadata": {},
   "outputs": [],
   "source": [
    "exam.registerTempTable('exam_data')"
   ]
  },
  {
   "cell_type": "markdown",
   "id": "060a01a9",
   "metadata": {},
   "source": [
    "### SQL queries"
   ]
  },
  {
   "cell_type": "markdown",
   "id": "b12c460e",
   "metadata": {},
   "source": [
    "**Q1: How many assesstments are in the dataset?**"
   ]
  },
  {
   "cell_type": "code",
   "execution_count": null,
   "id": "276bc8e2",
   "metadata": {},
   "outputs": [],
   "source": [
    "spark.sql('''select count(distinct(user_exam_id)) as num_of_assessments from exam_data''').show()"
   ]
  },
  {
   "cell_type": "markdown",
   "id": "799c58c8",
   "metadata": {},
   "source": [
    "+------------------+\n",
    "|num_of_assessments|\n",
    "+------------------+\n",
    "|              3242|\n",
    "+------------------+"
   ]
  },
  {
   "cell_type": "markdown",
   "id": "69dfe1e9",
   "metadata": {},
   "source": [
    "**Q2: How many people took Learning Git?**"
   ]
  },
  {
   "cell_type": "code",
   "execution_count": null,
   "id": "8ab3342e",
   "metadata": {},
   "outputs": [],
   "source": [
    "spark.sql('''select count(distinct(user_exam_id)) as num_of_people_took_Learning_Git from exam_data where exam_name = 'Learning Git' ''').show()"
   ]
  },
  {
   "cell_type": "markdown",
   "id": "325d5318",
   "metadata": {},
   "source": [
    "+-------------------------------+\n",
    "|num_of_people_took_Learning_Git|\n",
    "+-------------------------------+\n",
    "|                            390|\n",
    "+-------------------------------+"
   ]
  },
  {
   "cell_type": "markdown",
   "id": "acb4e6eb",
   "metadata": {},
   "source": [
    "**Q3: How courses are in the dataset?**"
   ]
  },
  {
   "cell_type": "code",
   "execution_count": null,
   "id": "ee150817",
   "metadata": {},
   "outputs": [],
   "source": [
    "spark.sql('''select count(distinct exam_name) as num_of_courses from exam_data''').show()"
   ]
  },
  {
   "cell_type": "markdown",
   "id": "4eddb1ae",
   "metadata": {},
   "source": [
    "+--------------+   \n",
    "|num_of_courses|\n",
    "+--------------+\n",
    "|           103|\n",
    "+--------------+"
   ]
  },
  {
   "cell_type": "markdown",
   "id": "1de57edf",
   "metadata": {},
   "source": [
    "This is the end of Project 2. "
   ]
  }
 ],
 "metadata": {
  "environment": {
   "name": "common-cpu.m79",
   "type": "gcloud",
   "uri": "gcr.io/deeplearning-platform-release/base-cpu:m79"
  },
  "kernelspec": {
   "display_name": "Python 3",
   "language": "python",
   "name": "python3"
  },
  "language_info": {
   "codemirror_mode": {
    "name": "ipython",
    "version": 3
   },
   "file_extension": ".py",
   "mimetype": "text/x-python",
   "name": "python",
   "nbconvert_exporter": "python",
   "pygments_lexer": "ipython3",
   "version": "3.7.10"
  }
 },
 "nbformat": 4,
 "nbformat_minor": 5
}
